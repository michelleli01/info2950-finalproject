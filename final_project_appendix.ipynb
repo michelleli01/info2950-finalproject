{
 "cells": [
  {
   "cell_type": "markdown",
   "metadata": {},
   "source": [
    "## INFO 2950 Final Project Appendix\n",
    "Larrisa Chen (lc949), Michelle Li (myl39), Christina Jin (cej65), Jade Eggleston (jce76)"
   ]
  },
  {
   "cell_type": "markdown",
   "metadata": {},
   "source": [
    "# Data Cleaning\n"
   ]
  },
  {
   "cell_type": "code",
   "execution_count": 1,
   "metadata": {},
   "outputs": [],
   "source": [
    "import numpy as np\n",
    "import pandas as pd\n",
    "import regex as re\n",
    "import json\n",
    "\n",
    "import ast\n",
    "import seaborn as sns\n",
    "import matplotlib.pyplot as plt"
   ]
  },
  {
   "cell_type": "code",
   "execution_count": 2,
   "metadata": {},
   "outputs": [],
   "source": [
    "%load_ext sql\n",
    "\n",
    "%config SqlMagic.autopandas = True\n",
    "%config SqlMagic.feedback = False\n",
    "%config SqlMagic.displaycon = False\n",
    "\n",
    "%sql duckdb:///:memory:"
   ]
  },
  {
   "cell_type": "markdown",
   "metadata": {},
   "source": [
    "**(1)** We began the data cleaning process by tackling the listings datasets as they contained the most information we needed. Since many of the cells had missing values and were of type object, we used the notna function to pull out only the non-missing rows from each of our selected columns (host_about, host_response_time, host_response_rate, host_acceptance_rate, last_review, review_scores_rating, description, beds, bedrooms, bathrooms_text). So, any row that had any information missing in the above columns were removed.\n"
   ]
  },
  {
   "cell_type": "code",
   "execution_count": 3,
   "metadata": {},
   "outputs": [],
   "source": [
    "# NEW YORK CLEANING\n",
    "\n",
    "nyc_listings_df = pd.read_csv(\"listings/nyc_listings.csv\")"
   ]
  },
  {
   "cell_type": "code",
   "execution_count": 4,
   "metadata": {},
   "outputs": [],
   "source": [
    "# Pulling out the non-missing rows from our selected columns\n",
    "\n",
    "nyc_listings_df = nyc_listings_df[nyc_listings_df[\"host_about\"].notna()]\n",
    "nyc_listings_df = nyc_listings_df[nyc_listings_df[\"host_response_time\"].notna()]\n",
    "nyc_listings_df = nyc_listings_df[nyc_listings_df[\"host_response_rate\"].notna()]\n",
    "nyc_listings_df = nyc_listings_df[nyc_listings_df[\"host_acceptance_rate\"].notna()]\n",
    "nyc_listings_df = nyc_listings_df[nyc_listings_df[\"last_review\"].notna()]\n",
    "nyc_listings_df = nyc_listings_df[nyc_listings_df[\"review_scores_rating\"].notna()]\n",
    "nyc_listings_df = nyc_listings_df[nyc_listings_df[\"description\"].notna()]\n",
    "nyc_listings_df = nyc_listings_df[nyc_listings_df[\"beds\"].notna()]\n",
    "nyc_listings_df = nyc_listings_df[nyc_listings_df[\"bedrooms\"].notna()]\n",
    "nyc_listings_df = nyc_listings_df[nyc_listings_df[\"bathrooms_text\"].notna()]"
   ]
  },
  {
   "cell_type": "markdown",
   "metadata": {},
   "source": [
    "**(2)** Many of the Airbnbs’ names, host descriptions, and listing information descriptions are showcased in various fonts and contain emoji symbols within them. However, we needed to make sure names and descriptions were uniform to make scraping for common words easier. So, we created the turn_into_string function to run through all the descriptions in each listing and remove any foreign characters or any emojis and any html inside the description. We also turned all the words inside the description to lowercase to standardize the words further Then, we created the is_string helper function to remove any empty strings after removing foreign characters. This removed the names and descriptions with special characters or fonts and ensured that all characters in descriptions or names were alphanumeric."
   ]
  },
  {
   "cell_type": "code",
   "execution_count": 5,
   "metadata": {},
   "outputs": [],
   "source": [
    "#is_string helper function\n",
    "\n",
    "def is_string(x):   \n",
    "    if type(x) != str:\n",
    "        return False\n",
    "    \n",
    "    if x == \" \" or x == \"\":\n",
    "        return False\n",
    "        \n",
    "    return True;\n",
    "\n",
    "def turn_into_string(x):\n",
    "    r = \"\"\n",
    "    clean_string = re.compile(\"<.*?>|(?!(?<=[a-z])'[a-z])[^\\w\\s]\") \n",
    "\n",
    "    for i in x.split(\"\\n\"):\n",
    "        temp = re.sub(clean_string, ' ', i)\n",
    "        r += temp.lower()\n",
    "        \n",
    "    return r"
   ]
  },
  {
   "cell_type": "code",
   "execution_count": 6,
   "metadata": {},
   "outputs": [
    {
     "name": "stdout",
     "output_type": "stream",
     "text": [
      "0        renovated apt home in elevator building    the...\n",
      "3         the space  beautiful  fully furnished and equ...\n",
      "6         the space  charming standard queen room   the...\n",
      "7        please don t expect the luxury here just a bas...\n",
      "8        this room is up three flights of stairs   it's...\n",
      "                               ...                        \n",
      "39860    the place is ideal for a person or a couple ne...\n",
      "39861    enjoy your nyc vacation stay in an elegant 3 b...\n",
      "39864    enjoy breathtaking views of the nyc skyline ov...\n",
      "39868    spacious apartment with great view of new york...\n",
      "39869    modern industrial style apartment in jersey ci...\n",
      "Name: description, Length: 11134, dtype: object\n"
     ]
    }
   ],
   "source": [
    "# Removed names and descriptions with special characters/fonts; ensure all characters/names are alphanumeric\n",
    "nyc_listings_df[\"host_about\"] = nyc_listings_df[\"host_about\"].apply(turn_into_string)\n",
    "nyc_listings_df = nyc_listings_df[nyc_listings_df[\"host_about\"].apply(is_string)]\n",
    "\n",
    "nyc_listings_df[\"name\"] = nyc_listings_df[\"name\"].apply(turn_into_string)\n",
    "nyc_listings_df = nyc_listings_df[nyc_listings_df[\"name\"].apply(is_string)]\n",
    "\n",
    "nyc_listings_df[\"description\"] = nyc_listings_df[\"description\"].apply(turn_into_string)\n",
    "nyc_listings_df = nyc_listings_df[nyc_listings_df[\"description\"].apply(is_string)]\n",
    "print(nyc_listings_df[\"description\"])"
   ]
  },
  {
   "cell_type": "markdown",
   "metadata": {},
   "source": [
    "**(3)** For the following columns, we needed to convert the object types within our data into more exact data types that are valuable to our data analysis and exploration. Since host_response_rate and host_acceptance_rate were in a percentage format as a string, they were turned into type objects. Hence, we created the percent_to_float helper function to remove the percentage symbol and change the values into floats for these two columns. Additionally, the price column had a dollar sign in its values to represent dollar amounts, which were turned into type objects. Hence, we created the dollar_to_float helper function to remove the dollar symbol and change the values into floats for this column. \n"
   ]
  },
  {
   "cell_type": "code",
   "execution_count": 7,
   "metadata": {},
   "outputs": [],
   "source": [
    "# percent_to_float and dollar_to_float helper functions\n",
    "\n",
    "def percent_to_float(x):\n",
    "    return float(x.strip(\"%\"))/100.0\n",
    "\n",
    "def dollar_to_float(x):\n",
    "    x = x.replace(\",\", \"\")\n",
    "    x = x.replace(\"$\", \"\")\n",
    "    return float(x)"
   ]
  },
  {
   "cell_type": "code",
   "execution_count": 8,
   "metadata": {},
   "outputs": [],
   "source": [
    "# Remove percentage symbol and change values into floats; remove dollar symbol and change values into floats\n",
    "\n",
    "nyc_listings_df[\"host_response_rate\"] = nyc_listings_df[\"host_response_rate\"].apply(percent_to_float)\n",
    "nyc_listings_df[\"host_acceptance_rate\"] = nyc_listings_df[\"host_acceptance_rate\"].apply(percent_to_float)\n",
    "nyc_listings_df[\"price\"] = nyc_listings_df[\"price\"].apply(dollar_to_float)"
   ]
  },
  {
   "cell_type": "markdown",
   "metadata": {},
   "source": [
    "**(4)** Moreover, the values under columns instant_bookable, host_identity_verified, host_has_profile_pic, and host_is_superhost were either “t” and “f”, which all became identified as type string or object. Hence, we created the str_to_bool helper function to convert the “t” and “f” into boolean expressions. We converted the “t” to True and “f” to False.\n"
   ]
  },
  {
   "cell_type": "code",
   "execution_count": 9,
   "metadata": {},
   "outputs": [],
   "source": [
    "# str_to_bool helper function\n",
    "\n",
    "def str_to_bool(x):\n",
    "    if(x == \"f\"):\n",
    "        return False\n",
    "    else:\n",
    "        return True"
   ]
  },
  {
   "cell_type": "code",
   "execution_count": 10,
   "metadata": {},
   "outputs": [],
   "source": [
    "# Convert the \"t\" and \"f\" into boolean expressions\n",
    "\n",
    "nyc_listings_df[\"instant_bookable\"] = nyc_listings_df[\"instant_bookable\"].apply(str_to_bool)\n",
    "nyc_listings_df[\"host_identity_verified\"] = nyc_listings_df[\"host_identity_verified\"].apply(str_to_bool)\n",
    "nyc_listings_df[\"host_has_profile_pic\"] = nyc_listings_df[\"host_has_profile_pic\"].apply(str_to_bool)\n",
    "nyc_listings_df[\"host_is_superhost\"] = nyc_listings_df[\"host_is_superhost\"].apply(str_to_bool)"
   ]
  },
  {
   "cell_type": "markdown",
   "metadata": {},
   "source": [
    "**(5)** There were categorical values under column host_response_time of “within an hour,” “within a few hours,” “within a day,” “a few days or more,” or “None”. To convert these values into an exact type, we decided to assign the categories to an int value within the range 0-4. The range would indicate the amount of time taken for the host response, with 0 indicating the shortest amount of time to 4 taking the longest amount of time. We created the host_response_time_to_int helper function to change the values “within an hour” to 0, “within a few hours” to 1, “within a day” to 2, “a few days or more” to 3, and “None” to 4. This would make it easier to numerically identify how long the host response takes and we can more easily quantify how long the host response takes."
   ]
  },
  {
   "cell_type": "code",
   "execution_count": 11,
   "metadata": {},
   "outputs": [],
   "source": [
    "# host_response_time_to_int helper function\n",
    "\n",
    "def host_response_time_to_int(x):\n",
    "    if(x == \"within an hour\"):\n",
    "        return 0\n",
    "    elif(x == \"within a few hours\"):\n",
    "        return 1\n",
    "    elif(x == \"within a day\"):\n",
    "        return 2\n",
    "    elif(x == \"a few days or more\"):\n",
    "        return 3\n",
    "    elif(x == \"None\"):\n",
    "        return 4"
   ]
  },
  {
   "cell_type": "code",
   "execution_count": 12,
   "metadata": {},
   "outputs": [],
   "source": [
    "# Change the categorical values into ints\n",
    "\n",
    "nyc_listings_df[\"host_response_time\"] = nyc_listings_df[\"host_response_time\"].apply(host_response_time_to_int)"
   ]
  },
  {
   "cell_type": "markdown",
   "metadata": {},
   "source": [
    "**(6)** Each description under the amenities columns was a single string, but we needed to turn them into lists of strings to scrape and identify common amenities among the listings. Hence, we created the amenities_to_list helper function, which uses a json library that automatically parses strings into a json format, and applied it to the amenities column.\n"
   ]
  },
  {
   "cell_type": "code",
   "execution_count": 13,
   "metadata": {},
   "outputs": [],
   "source": [
    "# amenities_to_list helper function\n",
    "\n",
    "def amenities_to_list(x):\n",
    "    return json.loads(x)"
   ]
  },
  {
   "cell_type": "code",
   "execution_count": 14,
   "metadata": {},
   "outputs": [],
   "source": [
    "# Turn into lists of strings to scrape and idnentify common ammenities among the listings\n",
    "\n",
    "nyc_listings_df[\"amenities\"] = nyc_listings_df[\"amenities\"].apply(amenities_to_list)"
   ]
  },
  {
   "cell_type": "markdown",
   "metadata": {},
   "source": [
    "**(7)** The values under columns host_since and last_review were type objects. We wanted to convert these values into datetime format to help with our visualizations, so we used the pandas to_datetime helper function to turn the values into type datetime. "
   ]
  },
  {
   "cell_type": "code",
   "execution_count": 15,
   "metadata": {},
   "outputs": [],
   "source": [
    "# Convert values into type datetime.\n",
    "\n",
    "nyc_listings_df[\"host_since\"] = pd.to_datetime(nyc_listings_df[\"host_since\"])\n",
    "nyc_listings_df[\"last_review\"] = pd.to_datetime(nyc_listings_df[\"last_review\"])"
   ]
  },
  {
   "cell_type": "markdown",
   "metadata": {},
   "source": [
    "**(8)** Next, we wanted to create a privacy criteria of each listing dependent on whether users have to use a shared space. Although the room_type column labels listings as private rooms, there was still the possibility that the listing had a shared bathroom, making it not private. To resolve this, we decided that if bathroom_text had the word “shared” in it, the listing would be considered as a shared space.  In order to implement this, we first created the room_type_to_bool helper function to search through the room_type values and identify if the word “shared” was in it. We then created a new column called is_private_room to hold the room_type values after room_type_to_bool was applied to them. If the room_type value contained “shared,” then the room_type_to_bool function would return as True; if the room_type value did not contain “shared,” then the room_type_to_bool function would return as False. \n"
   ]
  },
  {
   "cell_type": "code",
   "execution_count": 16,
   "metadata": {},
   "outputs": [],
   "source": [
    "# room_type_to_bool helper function\n",
    "\n",
    "def room_type_to_bool(x):\n",
    "    if(x == \"Shared room\"):\n",
    "        return False\n",
    "    return True"
   ]
  },
  {
   "cell_type": "code",
   "execution_count": 17,
   "metadata": {},
   "outputs": [],
   "source": [
    "# is_private_room column created to hold the room_type values\n",
    "\n",
    "nyc_listings_df[\"is_private_room\"] = nyc_listings_df[\"room_type\"].apply(room_type_to_bool)"
   ]
  },
  {
   "cell_type": "markdown",
   "metadata": {},
   "source": [
    "**(9)** Next, we completed the same process for bathrooms_text, creating the helper function bathrooms_text_to_bool to search through the bathrooms_text values and identify if “shared” was in it. We made a new column called is_private_bath to hold the resulting True/False values."
   ]
  },
  {
   "cell_type": "code",
   "execution_count": 18,
   "metadata": {},
   "outputs": [],
   "source": [
    "# bathrooms_text_to_bool helper function\n",
    "\n",
    "def bathrooms_text_to_bool(x):\n",
    "    if(str(x).find(\"shared\") != -1 or str(x).find(\"Shared\") != -1):\n",
    "        return False\n",
    "    return True"
   ]
  },
  {
   "cell_type": "code",
   "execution_count": 19,
   "metadata": {},
   "outputs": [],
   "source": [
    "# is_private_bath column created to hold the True/False values \n",
    "\n",
    "nyc_listings_df[\"is_private_bath\"] = nyc_listings_df[\"bathrooms_text\"].apply(bathrooms_text_to_bool)"
   ]
  },
  {
   "cell_type": "markdown",
   "metadata": {},
   "source": [
    "**(10)** Finally, we created a new column called is_private_overall to determine whether the listing is private based on whether both values in the is_private_room and is_private bathroom columns are True."
   ]
  },
  {
   "cell_type": "code",
   "execution_count": 20,
   "metadata": {},
   "outputs": [],
   "source": [
    "# is_private_overall column created\n",
    "\n",
    "nyc_listings_df[\"is_private_overall\"] = nyc_listings_df[\"is_private_room\"] & nyc_listings_df[\"is_private_bath\"]"
   ]
  },
  {
   "cell_type": "markdown",
   "metadata": {},
   "source": [
    "**(11)** In addition, we wanted to turn the bathrooms_text column values (1 bathroom, 1.5 bathrooms, or half-bath) into type ints to make visualizations easier. We created the bathrooms_text_to_int helper function to parse through bathrooms_text and identify the “half-bath” values and return it as 0.5. If the value did not include “half-bath,” the function would just use regex to return only the number. The resulting values from the bathrooms_text_to_int helper function were then added to a new column called baths."
   ]
  },
  {
   "cell_type": "code",
   "execution_count": 21,
   "metadata": {},
   "outputs": [],
   "source": [
    "# bathroom_text_to_float helper function\n",
    "\n",
    "def bathroom_text_to_float(x):\n",
    "    if(x.find(\"half-bath\") != -1 or x.find(\"Half-bath\") != -1):\n",
    "        return 0.5\n",
    "    elif(re.search(r\"d+\\.\\d+\", x) != None):\n",
    "        return float(re.search(r\"d+\\.\\d+\", x).group())\n",
    "    return int(re.search(r\"\\d+\", x).group())"
   ]
  },
  {
   "cell_type": "code",
   "execution_count": 22,
   "metadata": {},
   "outputs": [],
   "source": [
    "# Turn column values into type int\n",
    "\n",
    "nyc_listings_df[\"baths\"] = nyc_listings_df[\"bathrooms_text\"].apply(bathroom_text_to_float)"
   ]
  },
  {
   "cell_type": "code",
   "execution_count": 23,
   "metadata": {},
   "outputs": [
    {
     "name": "stdout",
     "output_type": "stream",
     "text": [
      "id                               float64\n",
      "name                              object\n",
      "description                       object\n",
      "host_since                datetime64[ns]\n",
      "host_about                        object\n",
      "host_response_time                 int64\n",
      "host_response_rate               float64\n",
      "host_acceptance_rate             float64\n",
      "host_is_superhost                   bool\n",
      "host_listings_count              float64\n",
      "host_has_profile_pic                bool\n",
      "host_identity_verified              bool\n",
      "neighbourhood_cleansed            object\n",
      "room_type                         object\n",
      "accommodates                       int64\n",
      "bathrooms_text                    object\n",
      "bedrooms                         float64\n",
      "beds                             float64\n",
      "amenities                         object\n",
      "price                            float64\n",
      "minimum_nights                     int64\n",
      "maximum_nights                     int64\n",
      "number_of_reviews                  int64\n",
      "last_review               datetime64[ns]\n",
      "review_scores_rating             float64\n",
      "instant_bookable                    bool\n",
      "is_private_room                     bool\n",
      "is_private_bath                     bool\n",
      "is_private_overall                  bool\n",
      "baths                            float64\n",
      "dtype: object\n",
      "(11134, 30)\n",
      "               id                                              name  \\\n",
      "0          2539.0                clean   quiet apt home by the park   \n",
      "3         45910.0                beautiful queens brownstone    5br   \n",
      "6         77765.0                              superior   box house   \n",
      "7          5178.0                   large furnished room near b way   \n",
      "8         80493.0                 cozy room in east village with ac   \n",
      "...           ...                                               ...   \n",
      "39860    696868.0       studio apartment close to midtown manhattan   \n",
      "39861   9023424.0   elegant 3 bed mins to times square nyc  parking   \n",
      "39864  17662555.0  amazing city views 15 min times sq 30day minimum   \n",
      "39868  26226078.0                           your home on the hudson   \n",
      "39869  30085707.0      2br apartment with patio  10min to manhattan   \n",
      "\n",
      "                                             description host_since  \\\n",
      "0      renovated apt home in elevator building    the... 2008-09-07   \n",
      "3       the space  beautiful  fully furnished and equ... 2010-08-17   \n",
      "6       the space  charming standard queen room   the... 2011-03-01   \n",
      "7      please don t expect the luxury here just a bas... 2009-03-03   \n",
      "8      this room is up three flights of stairs   it's... 2011-03-10   \n",
      "...                                                  ...        ...   \n",
      "39860  the place is ideal for a person or a couple ne... 2012-09-14   \n",
      "39861  enjoy your nyc vacation stay in an elegant 3 b... 2015-06-13   \n",
      "39864  enjoy breathtaking views of the nyc skyline ov... 2014-10-30   \n",
      "39868  spacious apartment with great view of new york... 2018-06-21   \n",
      "39869  modern industrial style apartment in jersey ci... 2014-08-12   \n",
      "\n",
      "                                              host_about  host_response_time  \\\n",
      "0      educated professional living in brooklyn   i l...                   0   \n",
      "3                           father of two boys   9   10                    0   \n",
      "6      thank you for your interest in the box house h...                   0   \n",
      "7      i used to work for a financial industry but no...                   1   \n",
      "8      i m a new york based writer and singer who doe...                   0   \n",
      "...                                                  ...                 ...   \n",
      "39860  this is a family house on the first and second...                   1   \n",
      "39861  i am a finance professional with a passion for...                   1   \n",
      "39864      i m a published poet  travel writer and ad...                   2   \n",
      "39868  i am in the fashion and textile industry and t...                   0   \n",
      "39869  i m a postdoc working on cancer research  just...                   0   \n",
      "\n",
      "       host_response_rate  host_acceptance_rate  host_is_superhost  \\\n",
      "0                    1.00                  0.90              False   \n",
      "3                    1.00                  0.19              False   \n",
      "6                    0.99                  0.98               True   \n",
      "7                    1.00                  1.00              False   \n",
      "8                    1.00                  0.86              False   \n",
      "...                   ...                   ...                ...   \n",
      "39860                0.94                  0.87               True   \n",
      "39861                1.00                  0.96               True   \n",
      "39864                0.82                  0.52              False   \n",
      "39868                1.00                  0.92              False   \n",
      "39869                1.00                  0.92              False   \n",
      "\n",
      "       host_listings_count  ...  minimum_nights  maximum_nights  \\\n",
      "0                      9.0  ...              30             730   \n",
      "3                      7.0  ...              30             730   \n",
      "6                     30.0  ...               2             365   \n",
      "7                      1.0  ...               2              14   \n",
      "8                      1.0  ...               2              60   \n",
      "...                    ...  ...             ...             ...   \n",
      "39860                  2.0  ...               3              15   \n",
      "39861                  3.0  ...               3            1125   \n",
      "39864                  4.0  ...              30            1125   \n",
      "39868                  3.0  ...               5              60   \n",
      "39869                  1.0  ...              29            1125   \n",
      "\n",
      "      number_of_reviews last_review  review_scores_rating instant_bookable  \\\n",
      "0                     9  2018-10-19                  4.89            False   \n",
      "3                    13  2019-11-12                  4.42            False   \n",
      "6                    42  2022-07-18                  4.90            False   \n",
      "7                   550  2022-08-22                  4.23            False   \n",
      "8                   207  2022-08-13                  4.34            False   \n",
      "...                 ...         ...                   ...              ...   \n",
      "39860               302  2022-08-23                  4.74            False   \n",
      "39861               123  2022-06-30                  4.91            False   \n",
      "39864                65  2022-02-01                  4.52            False   \n",
      "39868                27  2022-07-16                  4.63            False   \n",
      "39869               147  2022-08-20                  4.82            False   \n",
      "\n",
      "       is_private_room  is_private_bath is_private_overall  baths  \n",
      "0                 True            False              False    1.0  \n",
      "3                 True             True               True    2.0  \n",
      "6                 True             True               True    1.0  \n",
      "7                 True             True               True    1.0  \n",
      "8                 True            False              False    1.0  \n",
      "...                ...              ...                ...    ...  \n",
      "39860             True             True               True    1.0  \n",
      "39861             True             True               True    1.0  \n",
      "39864             True             True               True    1.0  \n",
      "39868             True             True               True    1.0  \n",
      "39869             True             True               True    1.0  \n",
      "\n",
      "[11134 rows x 30 columns]\n"
     ]
    }
   ],
   "source": [
    "print(nyc_listings_df.dtypes)\n",
    "print(nyc_listings_df.shape)\n",
    "print(nyc_listings_df)"
   ]
  },
  {
   "cell_type": "markdown",
   "metadata": {},
   "source": [
    "**(12)** After finishing the cleaning in the listings data sets, we began cleaning the calendar data sets. We used the drop function to remove the price and adjusted_price columns since we already had the same information in our listings data sets. \n"
   ]
  },
  {
   "cell_type": "code",
   "execution_count": 24,
   "metadata": {},
   "outputs": [],
   "source": [
    "# Calendar datasets\n",
    "\n",
    "nyc_calendar_df = pd.read_csv(\"calendars/nyc_calendar.csv\")"
   ]
  },
  {
   "cell_type": "code",
   "execution_count": 25,
   "metadata": {},
   "outputs": [],
   "source": [
    "# Remove two columns (redundant information)\n",
    "\n",
    "nyc_calendar_df = nyc_calendar_df.drop(\"price\", axis=1)\n",
    "nyc_calendar_df = nyc_calendar_df.drop(\"adjusted_price\", axis=1)"
   ]
  },
  {
   "cell_type": "markdown",
   "metadata": {},
   "source": [
    "**(13)** Additionally, we converted the date column values to type datetime and the available column values to boolean using the str_to_bool helper function."
   ]
  },
  {
   "cell_type": "code",
   "execution_count": 26,
   "metadata": {},
   "outputs": [],
   "source": [
    "# Convert date column values into type datetime and available column values into boolean\n",
    "\n",
    "nyc_calendar_df[\"date\"] = pd.to_datetime(nyc_calendar_df[\"date\"])\n",
    "nyc_calendar_df[\"available\"] = nyc_calendar_df[\"available\"].apply(str_to_bool)"
   ]
  },
  {
   "cell_type": "code",
   "execution_count": 27,
   "metadata": {},
   "outputs": [
    {
     "name": "stdout",
     "output_type": "stream",
     "text": [
      "                  listing_id       date  available  minimum_nights  \\\n",
      "0                       2539 2022-09-07      False            30.0   \n",
      "1                       2539 2022-09-08      False            30.0   \n",
      "2                       2539 2022-09-09      False            30.0   \n",
      "3                       2539 2022-09-10      False            30.0   \n",
      "4                       2539 2022-09-11      False            30.0   \n",
      "...                      ...        ...        ...             ...   \n",
      "14551457  709854858248316418 2023-09-02       True            30.0   \n",
      "14551458  709854858248316418 2023-09-03       True            30.0   \n",
      "14551459  709854858248316418 2023-09-04       True            30.0   \n",
      "14551460  709854858248316418 2023-09-05       True            30.0   \n",
      "14551461  709854858248316418 2023-09-06       True            30.0   \n",
      "\n",
      "          maximum_nights  \n",
      "0                  730.0  \n",
      "1                  730.0  \n",
      "2                  730.0  \n",
      "3                  730.0  \n",
      "4                  730.0  \n",
      "...                  ...  \n",
      "14551457           365.0  \n",
      "14551458           365.0  \n",
      "14551459           365.0  \n",
      "14551460           365.0  \n",
      "14551461           365.0  \n",
      "\n",
      "[14551462 rows x 5 columns]\n",
      "listing_id                 int64\n",
      "date              datetime64[ns]\n",
      "available                   bool\n",
      "minimum_nights           float64\n",
      "maximum_nights           float64\n",
      "dtype: object\n"
     ]
    }
   ],
   "source": [
    "print(nyc_calendar_df)\n",
    "print(nyc_calendar_df.dtypes)"
   ]
  },
  {
   "cell_type": "code",
   "execution_count": 28,
   "metadata": {},
   "outputs": [
    {
     "name": "stdout",
     "output_type": "stream",
     "text": [
      "Returning data to local variable nyc_bookings_df\n",
      "Returning data to local variable nyc_combined_df\n",
      "Returning data to local variable nyc_listings_df\n",
      "Returning data to local variable nyc_combined_df\n"
     ]
    }
   ],
   "source": [
    "%sql nyc_bookings_df << (SELECT listing_id, COUNT(available) AS days_booked FROM nyc_calendar_df WHERE available = False GROUP BY listing_id)\n",
    "%sql nyc_combined_df << (SELECT * FROM nyc_listings_df LEFT JOIN nyc_bookings_df ON nyc_listings_df.id = nyc_bookings_df.listing_id)\n",
    "%sql nyc_listings_df << SELECT * FROM nyc_listings_df ORDER BY price \n",
    "%sql nyc_combined_df << SELECT * FROM nyc_combined_df ORDER BY price "
   ]
  },
  {
   "cell_type": "code",
   "execution_count": 29,
   "metadata": {},
   "outputs": [],
   "source": [
    "nyc_combined_df = nyc_combined_df.drop(columns = 'listing_id')\n",
    "nyc_listings_df = nyc_listings_df.drop([11094, 11095, 11096])\n",
    "nyc_combined_df = nyc_combined_df.drop([11094, 11095, 11096])"
   ]
  },
  {
   "cell_type": "markdown",
   "metadata": {},
   "source": [
    "**(14)** Because the data sets for each city were similar in data format in terms of the columns and the types we wanted the columns to be, we used the same process for data cleaning for every city. (NYC done)"
   ]
  },
  {
   "cell_type": "markdown",
   "metadata": {},
   "source": [
    "#### NYC Amenities Scraping"
   ]
  },
  {
   "cell_type": "markdown",
   "metadata": {},
   "source": [
    "Here we are counting the frequencies of every amenity listed in every NYC listing and creating a dataframe to be able to get the most frequent amenities listed."
   ]
  },
  {
   "cell_type": "markdown",
   "metadata": {},
   "source": [
    "**(1)** We wanted to create a list that included all the amenities offered in all the listings within one city. So, we created a for loop that would pull each amenity from the listings into a single list. "
   ]
  },
  {
   "cell_type": "code",
   "execution_count": 30,
   "metadata": {},
   "outputs": [],
   "source": [
    "nyc_amenities_df = pd.DataFrame(nyc_combined_df['amenities'])\n",
    "nyc_amenities_list_accum = []\n",
    "df_len = len(nyc_amenities_df.index)\n",
    "for i in range(0,df_len):\n",
    "    x = ast.literal_eval(nyc_amenities_df.iloc[i, 0])\n",
    "    nyc_amenities_list_accum.append(x)"
   ]
  },
  {
   "cell_type": "markdown",
   "metadata": {},
   "source": [
    "**(2)** We wanted to match each amenity with the frequency it appeared in the list we just created. Hence, we made another for loop to count the frequency of each amenity that would output a dictionary."
   ]
  },
  {
   "cell_type": "code",
   "execution_count": 31,
   "metadata": {},
   "outputs": [],
   "source": [
    "nyc_amenities_frequency={}\n",
    "for list in nyc_amenities_list_accum:\n",
    "    for item in list:\n",
    "        if item in nyc_amenities_frequency:\n",
    "            nyc_amenities_frequency[item] += 1\n",
    "        else:\n",
    "            nyc_amenities_frequency[item] = 1"
   ]
  },
  {
   "cell_type": "markdown",
   "metadata": {},
   "source": [
    "**(3)** Here, we pulled the dictionary into the nyc_amenities_df dataframe. We then used the pandas melt function to reshape the dataframe so that the columns would become variable and could include all amenities and the count of each amenity."
   ]
  },
  {
   "cell_type": "code",
   "execution_count": 112,
   "metadata": {},
   "outputs": [],
   "source": [
    "nyc_amenities_df = pd.DataFrame(nyc_amenities_frequency, index=[0])\n",
    "nyc_amenities_list = nyc_amenities_df.columns"
   ]
  },
  {
   "cell_type": "code",
   "execution_count": 33,
   "metadata": {},
   "outputs": [],
   "source": [
    "nyc_amenities_df = pd.melt(nyc_amenities_df, value_vars=nyc_amenities_list, value_name='nyc_count')"
   ]
  },
  {
   "cell_type": "markdown",
   "metadata": {},
   "source": [
    "**(4)** Finally, we used SQL to pull out the 50 most frequently listed amenity."
   ]
  },
  {
   "cell_type": "code",
   "execution_count": 34,
   "metadata": {},
   "outputs": [
    {
     "name": "stdout",
     "output_type": "stream",
     "text": [
      "Returning data to local variable nyc_amenities_df\n"
     ]
    }
   ],
   "source": [
    "%sql nyc_amenities_df << SELECT * FROM nyc_amenities_df ORDER BY nyc_count DESC FETCH FIRST 50 ROWS ONLY;"
   ]
  },
  {
   "cell_type": "markdown",
   "metadata": {},
   "source": [
    "**(5)** We used the same process for cleaning the amenities for every city. (NYC done)"
   ]
  },
  {
   "cell_type": "markdown",
   "metadata": {},
   "source": [
    "## Boston Cleaning"
   ]
  },
  {
   "cell_type": "code",
   "execution_count": 35,
   "metadata": {},
   "outputs": [
    {
     "name": "stdout",
     "output_type": "stream",
     "text": [
      "id                               float64\n",
      "name                              object\n",
      "description                       object\n",
      "host_since                datetime64[ns]\n",
      "host_about                        object\n",
      "host_response_time                 int64\n",
      "host_response_rate               float64\n",
      "host_acceptance_rate             float64\n",
      "host_is_superhost                   bool\n",
      "host_listings_count                int64\n",
      "host_has_profile_pic                bool\n",
      "host_identity_verified              bool\n",
      "neighbourhood_cleansed            object\n",
      "room_type                         object\n",
      "accommodates                       int64\n",
      "bathrooms_text                    object\n",
      "bedrooms                         float64\n",
      "beds                             float64\n",
      "amenities                         object\n",
      "price                            float64\n",
      "minimum_nights                     int64\n",
      "maximum_nights                     int64\n",
      "number_of_reviews                  int64\n",
      "last_review               datetime64[ns]\n",
      "review_scores_rating             float64\n",
      "instant_bookable                    bool\n",
      "is_private_room                     bool\n",
      "is_private_bath                     bool\n",
      "baths                            float64\n",
      "is_private_overall                  bool\n",
      "dtype: object\n",
      "(1993, 30)\n",
      "                id                                              name  \\\n",
      "1     3.781000e+03                         HARBORSIDE-Walk to subway   \n",
      "2     5.506000e+03    ** Fort Hill Inn Private! Minutes to center!**   \n",
      "4     7.903000e+03        Colorful, modern 2 BR apt shared with host   \n",
      "5     8.521000e+03  SunsplashedSerenity walk to Harvard & Fresh Pond   \n",
      "6     8.789000e+03               Curved Glass Studio/1bd facing Park   \n",
      "...            ...                                               ...   \n",
      "5147  7.102199e+17                          Best location in Boston!   \n",
      "5153  7.108113e+17   Luxury 2BD/2BA Near Logan Airport and T station   \n",
      "5155  7.108225e+17   Luxury 2BD/2BA Near Logan Airport and T station   \n",
      "5156  7.108264e+17   Luxury 2BD/2BA Near Logan Airport and T station   \n",
      "5157  7.108379e+17   Luxury 3BD/2BA Near Logan Airport and T station   \n",
      "\n",
      "                                            description host_since  \\\n",
      "1     Fully separate apartment in a two apartment bu... 2008-12-03   \n",
      "2     Private guest room with private bath, You do n... 2009-02-19   \n",
      "4     I'm a high school teacher and frequent travele... 2009-04-20   \n",
      "5     An elegant, sun-splashed, 2 bedroom (+2offices... 2010-12-01   \n",
      "6     This unit is for sale. There will need to be o... 2009-07-22   \n",
      "...                                                 ...        ...   \n",
      "5147  BEST LOCATION IN BOSTON! Brand new 3 bedroom h... 2017-04-08   \n",
      "5153  Whether you are just getting away for the week... 2018-08-29   \n",
      "5155  Whether you are just getting away for the week... 2018-08-29   \n",
      "5156  Whether you are just getting away for the week... 2018-08-29   \n",
      "5157  Whether you are just getting away for the week... 2018-08-29   \n",
      "\n",
      "                                             host_about  host_response_time  \\\n",
      "1     My wife and I and grown children frequently oc...                   2   \n",
      "2                 Relaxed,  Easy going, Accommodating.                    0   \n",
      "4     I'm a high school science teacher, and since 2...                   0   \n",
      "5     I'm a professor at one of the local universiti...                   1   \n",
      "6     I manage a number of furnished units around Bo...                   2   \n",
      "...                                                 ...                 ...   \n",
      "5147  Hi! My name is Joseph. I’m here to go above an...                   0   \n",
      "5153  Whether you are just getting away for the week...                   0   \n",
      "5155  Whether you are just getting away for the week...                   0   \n",
      "5156  Whether you are just getting away for the week...                   0   \n",
      "5157  Whether you are just getting away for the week...                   0   \n",
      "\n",
      "      host_response_rate  host_acceptance_rate  host_is_superhost  \\\n",
      "1                    1.0                  0.30               True   \n",
      "2                    1.0                  1.00               True   \n",
      "4                    1.0                  0.97               True   \n",
      "5                    1.0                  0.88               True   \n",
      "6                    0.9                  0.55               True   \n",
      "...                  ...                   ...                ...   \n",
      "5147                 1.0                  0.88              False   \n",
      "5153                 1.0                  0.91              False   \n",
      "5155                 1.0                  0.91              False   \n",
      "5156                 1.0                  0.91              False   \n",
      "5157                 1.0                  0.91              False   \n",
      "\n",
      "      host_listings_count  ...  minimum_nights  maximum_nights  \\\n",
      "1                       4  ...              32            1125   \n",
      "2                      11  ...               3              90   \n",
      "4                       1  ...               4             100   \n",
      "5                       2  ...               2            1125   \n",
      "6                       9  ...              91             365   \n",
      "...                   ...  ...             ...             ...   \n",
      "5147                    2  ...               3            1125   \n",
      "5153                   58  ...               1             365   \n",
      "5155                   58  ...               1             365   \n",
      "5156                   58  ...               1             365   \n",
      "5157                   58  ...               1             365   \n",
      "\n",
      "     number_of_reviews last_review  review_scores_rating instant_bookable  \\\n",
      "1                   23  2022-05-29                  4.96            False   \n",
      "2                  113  2022-07-11                  4.78            False   \n",
      "4                  295  2022-09-06                  4.89            False   \n",
      "5                   50  2022-08-28                  4.76            False   \n",
      "6                   25  2020-04-15                  4.64            False   \n",
      "...                ...         ...                   ...              ...   \n",
      "5147                 3  2022-09-13                  5.00             True   \n",
      "5153                 1  2022-09-11                  5.00             True   \n",
      "5155                 1  2022-09-11                  5.00             True   \n",
      "5156                 1  2022-09-11                  5.00             True   \n",
      "5157                 1  2022-09-10                  5.00             True   \n",
      "\n",
      "      is_private_room  is_private_bath baths  is_private_overall  \n",
      "1                True             True   1.0                True  \n",
      "2                True             True   1.0                True  \n",
      "4                True            False   1.0               False  \n",
      "5                True             True   1.0                True  \n",
      "6                True             True   1.0                True  \n",
      "...               ...              ...   ...                 ...  \n",
      "5147             True             True   1.0                True  \n",
      "5153             True             True   2.0                True  \n",
      "5155             True             True   2.0                True  \n",
      "5156             True             True   2.0                True  \n",
      "5157             True             True   2.0                True  \n",
      "\n",
      "[1993 rows x 30 columns]\n",
      "         listing_id       date  available  minimum_nights  maximum_nights\n",
      "0              3781 2022-09-15      False              32            1125\n",
      "1              3781 2022-09-16      False              32            1125\n",
      "2              3781 2022-09-17      False              32            1125\n",
      "3              3781 2022-09-18      False              32            1125\n",
      "4              3781 2022-09-19      False              32            1125\n",
      "...             ...        ...        ...             ...             ...\n",
      "1891790     1886037 2023-09-10      False              91            1125\n",
      "1891791     1886037 2023-09-11      False              91            1125\n",
      "1891792     1886037 2023-09-12      False              91            1125\n",
      "1891793     1886037 2023-09-13      False              91            1125\n",
      "1891794     1886037 2023-09-14      False              91            1125\n",
      "\n",
      "[1891795 rows x 5 columns]\n",
      "listing_id                 int64\n",
      "date              datetime64[ns]\n",
      "available                   bool\n",
      "minimum_nights             int64\n",
      "maximum_nights             int64\n",
      "dtype: object\n"
     ]
    }
   ],
   "source": [
    "# BOSTON CLEANING\n",
    "\n",
    "bos_listings_df = pd.read_csv(\"listings/bos_listings.csv\")\n",
    "\n",
    "bos_listings_df = bos_listings_df[bos_listings_df[\"host_about\"].notna()]\n",
    "bos_listings_df = bos_listings_df[bos_listings_df[\"host_response_time\"].notna()]\n",
    "bos_listings_df = bos_listings_df[bos_listings_df[\"host_response_rate\"].notna()]\n",
    "bos_listings_df = bos_listings_df[bos_listings_df[\"host_acceptance_rate\"].notna()]\n",
    "bos_listings_df = bos_listings_df[bos_listings_df[\"last_review\"].notna()]\n",
    "bos_listings_df = bos_listings_df[bos_listings_df[\"review_scores_rating\"].notna()]\n",
    "bos_listings_df = bos_listings_df[bos_listings_df[\"description\"].notna()]\n",
    "bos_listings_df = bos_listings_df[bos_listings_df[\"beds\"].notna()]\n",
    "bos_listings_df = bos_listings_df[bos_listings_df[\"bedrooms\"].notna()]\n",
    "bos_listings_df = bos_listings_df[bos_listings_df[\"bathrooms_text\"].notna()]\n",
    "\n",
    "bos_listings_df = bos_listings_df[bos_listings_df[\"host_about\"].apply(is_string)]\n",
    "bos_listings_df = bos_listings_df[bos_listings_df[\"name\"].apply(is_string)]\n",
    "bos_listings_df = bos_listings_df[bos_listings_df[\"description\"].apply(is_string)]\n",
    "\n",
    "bos_listings_df[\"host_response_rate\"] = bos_listings_df[\"host_response_rate\"].apply(percent_to_float)\n",
    "bos_listings_df[\"host_acceptance_rate\"] = bos_listings_df[\"host_acceptance_rate\"].apply(percent_to_float)\n",
    "bos_listings_df[\"price\"] = bos_listings_df[\"price\"].apply(dollar_to_float)\n",
    "bos_listings_df[\"instant_bookable\"] = bos_listings_df[\"instant_bookable\"].apply(str_to_bool)\n",
    "bos_listings_df[\"host_identity_verified\"] = bos_listings_df[\"host_identity_verified\"].apply(str_to_bool)\n",
    "bos_listings_df[\"host_has_profile_pic\"] = bos_listings_df[\"host_has_profile_pic\"].apply(str_to_bool)\n",
    "bos_listings_df[\"host_is_superhost\"] = bos_listings_df[\"host_is_superhost\"].apply(str_to_bool)\n",
    "bos_listings_df[\"host_response_time\"] = bos_listings_df[\"host_response_time\"].apply(host_response_time_to_int)\n",
    "bos_listings_df[\"amenities\"] = bos_listings_df[\"amenities\"].apply(amenities_to_list)\n",
    "\n",
    "bos_listings_df[\"is_private_room\"] = bos_listings_df[\"room_type\"].apply(room_type_to_bool)\n",
    "bos_listings_df[\"is_private_bath\"] = bos_listings_df[\"bathrooms_text\"].apply(bathrooms_text_to_bool)\n",
    "bos_listings_df[\"baths\"] = bos_listings_df[\"bathrooms_text\"].apply(bathroom_text_to_float)\n",
    "bos_listings_df[\"is_private_overall\"] = bos_listings_df[\"is_private_room\"] & bos_listings_df[\"is_private_bath\"]\n",
    "\n",
    "bos_listings_df[\"host_since\"] = pd.to_datetime(bos_listings_df[\"host_since\"])\n",
    "bos_listings_df[\"last_review\"] = pd.to_datetime(bos_listings_df[\"last_review\"])\n",
    "\n",
    "print(bos_listings_df.dtypes)\n",
    "print(bos_listings_df.shape)\n",
    "print(bos_listings_df)\n",
    "\n",
    "bos_calendar_df = pd.read_csv(\"calendars/bos_calendar.csv\")\n",
    "bos_calendar_df = bos_calendar_df.drop(\"price\", axis=1)\n",
    "bos_calendar_df = bos_calendar_df.drop(\"adjusted_price\", axis=1)\n",
    "bos_calendar_df[\"date\"] = pd.to_datetime(bos_calendar_df[\"date\"])\n",
    "bos_calendar_df[\"available\"] = bos_calendar_df[\"available\"].apply(str_to_bool)\n",
    "\n",
    "print(bos_calendar_df)\n",
    "print(bos_calendar_df.dtypes)"
   ]
  },
  {
   "cell_type": "code",
   "execution_count": 36,
   "metadata": {},
   "outputs": [
    {
     "name": "stdout",
     "output_type": "stream",
     "text": [
      "Returning data to local variable bos_bookings_df\n",
      "Returning data to local variable bos_combined_df\n",
      "Returning data to local variable bos_listings_df\n",
      "Returning data to local variable bos_combined_df\n"
     ]
    }
   ],
   "source": [
    "%sql bos_bookings_df << (SELECT listing_id, COUNT(available) AS days_booked FROM bos_calendar_df WHERE available = False GROUP BY listing_id)\n",
    "%sql bos_combined_df << (SELECT * FROM bos_listings_df LEFT JOIN bos_bookings_df ON bos_listings_df.id = bos_bookings_df.listing_id)\n",
    "%sql bos_listings_df << SELECT * FROM bos_listings_df ORDER BY price \n",
    "%sql bos_combined_df << SELECT * FROM bos_combined_df ORDER BY price "
   ]
  },
  {
   "cell_type": "code",
   "execution_count": 37,
   "metadata": {},
   "outputs": [],
   "source": [
    "bos_combined_df = bos_combined_df.drop(columns = 'listing_id')\n",
    "bos_listings_df = bos_listings_df.drop([1982, 1983])\n",
    "bos_combined_df = bos_combined_df.drop([1982, 1983])"
   ]
  },
  {
   "cell_type": "markdown",
   "metadata": {},
   "source": [
    "#### BOS Amenity Scraping"
   ]
  },
  {
   "cell_type": "code",
   "execution_count": 38,
   "metadata": {},
   "outputs": [],
   "source": [
    "bos_amenities_df = pd.DataFrame(bos_combined_df['amenities'])\n",
    "bos_amenities_list_accum = []\n",
    "df_len = len(bos_amenities_df.index)\n",
    "for i in range(0,df_len):\n",
    "    x = ast.literal_eval(bos_amenities_df.iloc[i, 0])\n",
    "    bos_amenities_list_accum.append(x)"
   ]
  },
  {
   "cell_type": "code",
   "execution_count": 39,
   "metadata": {},
   "outputs": [],
   "source": [
    "bos_amenities_frequency={}\n",
    "for list in bos_amenities_list_accum:\n",
    "    for item in list:\n",
    "        if item in bos_amenities_frequency:\n",
    "            bos_amenities_frequency[item] += 1\n",
    "        else:\n",
    "            bos_amenities_frequency[item] = 1"
   ]
  },
  {
   "cell_type": "code",
   "execution_count": 40,
   "metadata": {},
   "outputs": [],
   "source": [
    "bos_amenities_df = pd.DataFrame(bos_amenities_frequency, index=[0])\n",
    "bos_amenities_list = bos_amenities_df.columns"
   ]
  },
  {
   "cell_type": "code",
   "execution_count": 41,
   "metadata": {},
   "outputs": [],
   "source": [
    "bos_amenities_df = pd.melt(bos_amenities_df, value_vars=bos_amenities_list, value_name='bos_count')"
   ]
  },
  {
   "cell_type": "code",
   "execution_count": 42,
   "metadata": {},
   "outputs": [
    {
     "name": "stdout",
     "output_type": "stream",
     "text": [
      "Returning data to local variable bos_amenities_df\n"
     ]
    }
   ],
   "source": [
    "%sql bos_amenities_df << SELECT * FROM bos_amenities_df ORDER BY bos_count DESC FETCH FIRST 50 ROWS ONLY;"
   ]
  },
  {
   "cell_type": "code",
   "execution_count": 43,
   "metadata": {},
   "outputs": [],
   "source": [
    "bos_amenities_df = bos_amenities_df.rename(columns={'variable': 'variable_1'})"
   ]
  },
  {
   "cell_type": "markdown",
   "metadata": {},
   "source": [
    "## Chicago Cleaning"
   ]
  },
  {
   "cell_type": "code",
   "execution_count": 44,
   "metadata": {},
   "outputs": [
    {
     "name": "stdout",
     "output_type": "stream",
     "text": [
      "id                               float64\n",
      "name                              object\n",
      "description                       object\n",
      "host_since                datetime64[ns]\n",
      "host_about                        object\n",
      "host_response_time                 int64\n",
      "host_response_rate               float64\n",
      "host_acceptance_rate             float64\n",
      "host_is_superhost                   bool\n",
      "host_listings_count                int64\n",
      "host_has_profile_pic                bool\n",
      "host_identity_verified              bool\n",
      "neighbourhood_cleansed            object\n",
      "room_type                         object\n",
      "accommodates                       int64\n",
      "bathrooms_text                    object\n",
      "bedrooms                         float64\n",
      "beds                             float64\n",
      "amenities                         object\n",
      "price                            float64\n",
      "minimum_nights                     int64\n",
      "maximum_nights                     int64\n",
      "number_of_reviews                  int64\n",
      "last_review               datetime64[ns]\n",
      "review_scores_rating             float64\n",
      "instant_bookable                    bool\n",
      "is_private_room                     bool\n",
      "is_private_bath                     bool\n",
      "baths                            float64\n",
      "is_private_overall                  bool\n",
      "dtype: object\n",
      "(3408, 30)\n",
      "              id                                               name  \\\n",
      "0         2384.0                       Hyde Park - Walk to UChicago   \n",
      "1         7126.0                Tiny Studio Apartment 94 Walk Score   \n",
      "2        10945.0                              The Biddle House (#1)   \n",
      "3        12140.0                           Lincoln Park Guest House   \n",
      "4        24833.0  Prime LincolnPark 1 Block Fullerton Express L ...   \n",
      "...          ...                                                ...   \n",
      "7403  16109014.0  Cozy one bedroom apartment close to OHare/Rose...   \n",
      "7405  12412316.0     Wesley Ave - CTA Blue Line Train 1 block away!   \n",
      "7407  31210381.0  Modern Victorian with Old World Charm-Free Par...   \n",
      "7408  31928199.0                                            Room 05   \n",
      "7409  46584114.0  1A6ihx Comfy Bdrm+Own Washrm Cls to Chicago&Lo...   \n",
      "\n",
      "                                            description host_since  \\\n",
      "0     You are invited to be the sole Airbnb guest in... 2008-08-29   \n",
      "1     A very small studio in a wonderful neighborhoo... 2009-05-19   \n",
      "2     Beautiful first floor apartment in Historic Ol... 2009-08-21   \n",
      "3     Bed and Breakfast license issued by the City o... 2009-10-18   \n",
      "4     Perfect private entrance apartment one block f... 2010-03-31   \n",
      "...                                                 ...        ...   \n",
      "7403  Cozy 1BR/1BA apartment in 3 units building in ... 2016-11-24   \n",
      "7405  Warm well maintained brick building. Very hear... 2014-04-28   \n",
      "7407  This historic Queen Anne home built in 1889 is... 2018-05-23   \n",
      "7408  On the border of Chicago and the suburbs, our ... 2012-08-07   \n",
      "7409  This room has a private half bathroom. <br /><... 2014-10-03   \n",
      "\n",
      "                                             host_about  host_response_time  \\\n",
      "0     My 2 bdrm apartment is a 2nd floor walk-up in ...                   0   \n",
      "1     We live in Chicago. We love to travel and see ...                   0   \n",
      "2     Hi, we're Bob and Liz Biddle, long time Chicag...                   0   \n",
      "3     Best in the city with long-time urban-dwelling...                   0   \n",
      "4     Travel is fun and exciting but can be hard on ...                   1   \n",
      "...                                                 ...                 ...   \n",
      "7403  I am professional who occasionally travel with...                   0   \n",
      "7405  Also an Airbnb host, Vegan, Crossfit, Books, M...                   0   \n",
      "7407  I’m a nature lover and a creative soul, always...                   0   \n",
      "7408  We enjoy providing a neat and restful environm...                   1   \n",
      "7409  Bill (Lonmu) is a retired professor. He has in...                   0   \n",
      "\n",
      "      host_response_rate  host_acceptance_rate  host_is_superhost  \\\n",
      "0                   1.00                  0.97               True   \n",
      "1                   1.00                  0.96               True   \n",
      "2                   1.00                  0.99               True   \n",
      "3                   1.00                  0.89              False   \n",
      "4                   0.90                  0.77              False   \n",
      "...                  ...                   ...                ...   \n",
      "7403                1.00                  1.00              False   \n",
      "7405                1.00                  0.87              False   \n",
      "7407                1.00                  0.97               True   \n",
      "7408                1.00                  0.00              False   \n",
      "7409                0.99                  0.98              False   \n",
      "\n",
      "      host_listings_count  ...  minimum_nights  maximum_nights  \\\n",
      "0                       1  ...               3              89   \n",
      "1                       2  ...               2              60   \n",
      "2                       9  ...               4             180   \n",
      "3                       1  ...               2               7   \n",
      "4                       8  ...              32             395   \n",
      "...                   ...  ...             ...             ...   \n",
      "7403                    3  ...               5            1125   \n",
      "7405                   12  ...              21            1125   \n",
      "7407                    8  ...             365             365   \n",
      "7408                    5  ...             300            1125   \n",
      "7409                  169  ...               1            1125   \n",
      "\n",
      "     number_of_reviews last_review  review_scores_rating instant_bookable  \\\n",
      "0                  207  2022-09-09                  4.99             True   \n",
      "1                  459  2022-08-28                  4.68            False   \n",
      "2                   56  2022-08-23                  4.63             True   \n",
      "3                   13  2022-09-12                  5.00            False   \n",
      "4                   40  2022-04-23                  4.28            False   \n",
      "...                ...         ...                   ...              ...   \n",
      "7403                59  2022-06-19                  4.63             True   \n",
      "7405                19  2022-07-21                  4.79            False   \n",
      "7407               169  2022-08-22                  4.97            False   \n",
      "7408                25  2020-06-30                  4.80            False   \n",
      "7409                 6  2021-11-09                  3.67            False   \n",
      "\n",
      "      is_private_room  is_private_bath baths  is_private_overall  \n",
      "0                True            False   1.0               False  \n",
      "1                True             True   1.0                True  \n",
      "2                True             True   1.0                True  \n",
      "3                True             True   1.0                True  \n",
      "4                True             True   1.0                True  \n",
      "...               ...              ...   ...                 ...  \n",
      "7403             True             True   1.0                True  \n",
      "7405             True             True   1.0                True  \n",
      "7407             True             True   1.0                True  \n",
      "7408             True             True   1.0                True  \n",
      "7409             True             True   2.0                True  \n",
      "\n",
      "[3408 rows x 30 columns]\n",
      "                 listing_id       date  available  minimum_nights  \\\n",
      "0                      2384 2022-09-14       True               3   \n",
      "1                      2384 2022-09-15      False               3   \n",
      "2                      2384 2022-09-16      False               3   \n",
      "3                      2384 2022-09-17      False               3   \n",
      "4                      2384 2022-09-18       True               3   \n",
      "...                     ...        ...        ...             ...   \n",
      "2706105  714911926018490296 2023-09-09       True             730   \n",
      "2706106  714911926018490296 2023-09-10       True             730   \n",
      "2706107  714911926018490296 2023-09-11       True             730   \n",
      "2706108  714911926018490296 2023-09-12       True             730   \n",
      "2706109  714911926018490296 2023-09-13       True             730   \n",
      "\n",
      "         maximum_nights  \n",
      "0                  1125  \n",
      "1                  1125  \n",
      "2                  1125  \n",
      "3                  1125  \n",
      "4                  1125  \n",
      "...                 ...  \n",
      "2706105            1125  \n",
      "2706106            1125  \n",
      "2706107            1125  \n",
      "2706108            1125  \n",
      "2706109            1125  \n",
      "\n",
      "[2706110 rows x 5 columns]\n",
      "listing_id                 int64\n",
      "date              datetime64[ns]\n",
      "available                   bool\n",
      "minimum_nights             int64\n",
      "maximum_nights             int64\n",
      "dtype: object\n"
     ]
    }
   ],
   "source": [
    "# CHICAGO CLEANING\n",
    "\n",
    "chi_listings_df = pd.read_csv(\"listings/chi_listings.csv\")\n",
    "\n",
    "chi_listings_df = chi_listings_df[chi_listings_df[\"host_about\"].notna()]\n",
    "chi_listings_df = chi_listings_df[chi_listings_df[\"host_response_time\"].notna()]\n",
    "chi_listings_df = chi_listings_df[chi_listings_df[\"host_response_rate\"].notna()]\n",
    "chi_listings_df = chi_listings_df[chi_listings_df[\"host_acceptance_rate\"].notna()]\n",
    "chi_listings_df = chi_listings_df[chi_listings_df[\"last_review\"].notna()]\n",
    "chi_listings_df = chi_listings_df[chi_listings_df[\"review_scores_rating\"].notna()]\n",
    "chi_listings_df = chi_listings_df[chi_listings_df[\"description\"].notna()]\n",
    "chi_listings_df = chi_listings_df[chi_listings_df[\"beds\"].notna()]\n",
    "chi_listings_df = chi_listings_df[chi_listings_df[\"bedrooms\"].notna()]\n",
    "chi_listings_df = chi_listings_df[chi_listings_df[\"bathrooms_text\"].notna()]\n",
    "\n",
    "chi_listings_df = chi_listings_df[chi_listings_df[\"host_about\"].apply(is_string)]\n",
    "chi_listings_df = chi_listings_df[chi_listings_df[\"name\"].apply(is_string)]\n",
    "chi_listings_df = chi_listings_df[chi_listings_df[\"description\"].apply(is_string)]\n",
    "\n",
    "chi_listings_df[\"host_response_rate\"] = chi_listings_df[\"host_response_rate\"].apply(percent_to_float)\n",
    "chi_listings_df[\"host_acceptance_rate\"] = chi_listings_df[\"host_acceptance_rate\"].apply(percent_to_float)\n",
    "chi_listings_df[\"price\"] = chi_listings_df[\"price\"].apply(dollar_to_float)\n",
    "chi_listings_df[\"instant_bookable\"] = chi_listings_df[\"instant_bookable\"].apply(str_to_bool)\n",
    "chi_listings_df[\"host_identity_verified\"] = chi_listings_df[\"host_identity_verified\"].apply(str_to_bool)\n",
    "chi_listings_df[\"host_has_profile_pic\"] = chi_listings_df[\"host_has_profile_pic\"].apply(str_to_bool)\n",
    "chi_listings_df[\"host_is_superhost\"] = chi_listings_df[\"host_is_superhost\"].apply(str_to_bool)\n",
    "chi_listings_df[\"host_response_time\"] = chi_listings_df[\"host_response_time\"].apply(host_response_time_to_int)\n",
    "chi_listings_df[\"amenities\"] = chi_listings_df[\"amenities\"].apply(amenities_to_list)\n",
    "\n",
    "chi_listings_df[\"is_private_room\"] = chi_listings_df[\"room_type\"].apply(room_type_to_bool)\n",
    "chi_listings_df[\"is_private_bath\"] = chi_listings_df[\"bathrooms_text\"].apply(bathrooms_text_to_bool)\n",
    "chi_listings_df[\"baths\"] = chi_listings_df[\"bathrooms_text\"].apply(bathroom_text_to_float)\n",
    "chi_listings_df[\"is_private_overall\"] = chi_listings_df[\"is_private_room\"] & chi_listings_df[\"is_private_bath\"]\n",
    "\n",
    "chi_listings_df[\"host_since\"] = pd.to_datetime(chi_listings_df[\"host_since\"])\n",
    "chi_listings_df[\"last_review\"] = pd.to_datetime(chi_listings_df[\"last_review\"])\n",
    "\n",
    "print(chi_listings_df.dtypes)\n",
    "print(chi_listings_df.shape)\n",
    "print(chi_listings_df)\n",
    "\n",
    "chi_calendar_df = pd.read_csv(\"calendars/chi_calendar.csv\")\n",
    "chi_calendar_df = chi_calendar_df.drop(\"price\", axis=1)\n",
    "chi_calendar_df = chi_calendar_df.drop(\"adjusted_price\", axis=1)\n",
    "chi_calendar_df[\"date\"] = pd.to_datetime(chi_calendar_df[\"date\"])\n",
    "chi_calendar_df[\"available\"] = chi_calendar_df[\"available\"].apply(str_to_bool)\n",
    "\n",
    "print(chi_calendar_df)\n",
    "print(chi_calendar_df.dtypes)"
   ]
  },
  {
   "cell_type": "code",
   "execution_count": 45,
   "metadata": {},
   "outputs": [
    {
     "name": "stdout",
     "output_type": "stream",
     "text": [
      "Returning data to local variable chi_bookings_df\n",
      "Returning data to local variable chi_combined_df\n",
      "Returning data to local variable chi_listings_df\n",
      "Returning data to local variable chi_combined_df\n"
     ]
    }
   ],
   "source": [
    "%sql chi_bookings_df << (SELECT listing_id, COUNT(available) AS days_booked FROM chi_calendar_df WHERE available = False GROUP BY listing_id)\n",
    "%sql chi_combined_df << (SELECT * FROM chi_listings_df LEFT JOIN chi_bookings_df ON chi_listings_df.id = chi_bookings_df.listing_id)\n",
    "%sql chi_listings_df << SELECT * FROM chi_listings_df ORDER BY price \n",
    "%sql chi_combined_df << SELECT * FROM chi_combined_df ORDER BY price "
   ]
  },
  {
   "cell_type": "code",
   "execution_count": 46,
   "metadata": {},
   "outputs": [],
   "source": [
    "chi_combined_df = chi_combined_df.drop(columns = 'listing_id')\n",
    "chi_listings_df = chi_listings_df.drop([3384])\n",
    "chi_combined_df = chi_combined_df.drop([3384])"
   ]
  },
  {
   "cell_type": "markdown",
   "metadata": {},
   "source": [
    "#### CHI Amenity Scraping"
   ]
  },
  {
   "cell_type": "code",
   "execution_count": 47,
   "metadata": {},
   "outputs": [],
   "source": [
    "chi_amenities_df = pd.DataFrame(chi_combined_df['amenities'])\n",
    "chi_amenities_list_accum = []\n",
    "df_len = len(chi_amenities_df.index)\n",
    "for i in range(0,df_len):\n",
    "    x = ast.literal_eval(chi_amenities_df.iloc[i, 0])\n",
    "    chi_amenities_list_accum.append(x)"
   ]
  },
  {
   "cell_type": "code",
   "execution_count": 48,
   "metadata": {},
   "outputs": [],
   "source": [
    "chi_amenities_frequency={}\n",
    "for list in chi_amenities_list_accum:\n",
    "    for item in list:\n",
    "        if item in chi_amenities_frequency:\n",
    "            chi_amenities_frequency[item] += 1\n",
    "        else:\n",
    "            chi_amenities_frequency[item] = 1"
   ]
  },
  {
   "cell_type": "code",
   "execution_count": 49,
   "metadata": {},
   "outputs": [],
   "source": [
    "chi_amenities_df = pd.DataFrame(chi_amenities_frequency, index=[0])\n",
    "chi_amenities_list = chi_amenities_df.columns"
   ]
  },
  {
   "cell_type": "code",
   "execution_count": 50,
   "metadata": {},
   "outputs": [],
   "source": [
    "chi_amenities_df = pd.melt(chi_amenities_df, value_vars=chi_amenities_list, value_name='chi_count')"
   ]
  },
  {
   "cell_type": "code",
   "execution_count": 51,
   "metadata": {},
   "outputs": [
    {
     "name": "stdout",
     "output_type": "stream",
     "text": [
      "Returning data to local variable chi_amenities_df\n"
     ]
    }
   ],
   "source": [
    "%sql chi_amenities_df << SELECT * FROM chi_amenities_df ORDER BY chi_count DESC FETCH FIRST 50 ROWS ONLY;"
   ]
  },
  {
   "cell_type": "code",
   "execution_count": 52,
   "metadata": {},
   "outputs": [],
   "source": [
    "chi_amenities_df = chi_amenities_df.rename(columns={'variable': 'variable_1'})"
   ]
  },
  {
   "cell_type": "markdown",
   "metadata": {},
   "source": [
    "## Washington DC Cleaning"
   ]
  },
  {
   "cell_type": "code",
   "execution_count": 53,
   "metadata": {},
   "outputs": [
    {
     "name": "stdout",
     "output_type": "stream",
     "text": [
      "id                               float64\n",
      "name                              object\n",
      "description                       object\n",
      "host_since                datetime64[ns]\n",
      "host_about                        object\n",
      "host_response_time                 int64\n",
      "host_response_rate               float64\n",
      "host_acceptance_rate             float64\n",
      "host_is_superhost                   bool\n",
      "host_listings_count              float64\n",
      "host_has_profile_pic                bool\n",
      "host_identity_verified              bool\n",
      "neighbourhood_cleansed            object\n",
      "room_type                         object\n",
      "accommodates                       int64\n",
      "bathrooms_text                    object\n",
      "bedrooms                         float64\n",
      "beds                             float64\n",
      "amenities                         object\n",
      "price                            float64\n",
      "minimum_nights                     int64\n",
      "maximum_nights                     int64\n",
      "number_of_reviews                  int64\n",
      "last_review               datetime64[ns]\n",
      "review_scores_rating             float64\n",
      "instant_bookable                    bool\n",
      "is_private_room                     bool\n",
      "is_private_bath                     bool\n",
      "baths                              int64\n",
      "is_private_overall                  bool\n",
      "dtype: object\n",
      "(2497, 30)\n",
      "              id                                               name  \\\n",
      "0         3686.0                                    Vita's Hideaway   \n",
      "1       841260.0                Metro Style Living in Washington DC   \n",
      "2         3943.0                   Historic Rowhouse Near Monuments   \n",
      "3       842418.0               Luxury Penthouse in the heart of DC!   \n",
      "4       860336.0    Luxury Spacious Master Suite RoofDeck in DuPont   \n",
      "...          ...                                                ...   \n",
      "6461  35321791.0           Garden Apartment Carriage House Hideaway   \n",
      "6463   5692505.0   Panoramic River-DC View/Rosslyn Metro/Concierge✪   \n",
      "6465  47826713.0  Relaxing 1BR in the Middle of the Hustle & Bustle   \n",
      "6469  50244048.0     Large One-Bedroom with Private Balcony Near DC   \n",
      "6471  18854142.0                               Luxury Condo Rosslyn   \n",
      "\n",
      "                                            description host_since  \\\n",
      "0     IMPORTANT NOTES<br />* Carefully read and be s... 2008-11-26   \n",
      "1     Metro Style Living in Washington DC<br /><br /... 2010-12-10   \n",
      "2     You will be enjoying the en-suite style space ... 2008-12-12   \n",
      "3     Please DO NOT send a reservation request witho... 2012-04-27   \n",
      "4     HOSTING FULLY VACCINATED GUESTS ONLY!  (all gu... 2011-04-15   \n",
      "...                                                 ...        ...   \n",
      "6461  Takoma Park jewel. Light filled 2 bedroom, 2 b... 2017-08-16   \n",
      "6463  Stunning Potomac River/DC monument views, conc... 2011-06-30   \n",
      "6465  Fully furnished one-bedroom apartment with all... 2020-11-19   \n",
      "6469  Newly painted light gray (no more wallpaper! -... 2020-11-19   \n",
      "6471  Brand new 2 bedroom beautiful condo on the mar... 2017-05-21   \n",
      "\n",
      "                                             host_about  host_response_time  \\\n",
      "0     I am a literary scholar, teacher, poet, vegan ...                   2   \n",
      "1     My name is John and I am from Washington DC, I...                   1   \n",
      "2     I have been living and working in DC for the l...                   0   \n",
      "3     Holistic Health Coach and world traveler who l...                   2   \n",
      "4     Software technical sales executive based in Wa...                   0   \n",
      "...                                                 ...                 ...   \n",
      "6461  I am a native Washingtonian, Professional, and...                   0   \n",
      "6463  I'm a career reporter, based for long stints i...                   0   \n",
      "6465  I am a real estate broker and property manager...                   2   \n",
      "6469  I am a real estate broker and property manager...                   2   \n",
      "6471  Hello!\\nClaire here both Chuck( my husband) an...                   1   \n",
      "\n",
      "      host_response_rate  host_acceptance_rate  host_is_superhost  \\\n",
      "0                   1.00                  1.00              False   \n",
      "1                   0.81                  0.48              False   \n",
      "2                   1.00                  0.76               True   \n",
      "3                   0.80                  0.93               True   \n",
      "4                   1.00                  1.00              False   \n",
      "...                  ...                   ...                ...   \n",
      "6461                1.00                  0.98              False   \n",
      "6463                1.00                  1.00               True   \n",
      "6465                0.85                  0.59              False   \n",
      "6469                0.85                  0.59              False   \n",
      "6471                1.00                  1.00               True   \n",
      "\n",
      "      host_listings_count  ...  minimum_nights  maximum_nights  \\\n",
      "0                     1.0  ...              31             365   \n",
      "1                    71.0  ...              31             360   \n",
      "2                     4.0  ...               1            1125   \n",
      "3                     4.0  ...              31            1125   \n",
      "4                     4.0  ...               1              30   \n",
      "...                   ...  ...             ...             ...   \n",
      "6461                  4.0  ...               7             365   \n",
      "6463                  5.0  ...             135            1125   \n",
      "6465                 31.0  ...              90            1125   \n",
      "6469                 31.0  ...              90            1125   \n",
      "6471                  1.0  ...              30            1125   \n",
      "\n",
      "     number_of_reviews last_review  review_scores_rating instant_bookable  \\\n",
      "0                   81  2022-07-06                  4.63            False   \n",
      "1                   14  2021-04-24                  4.43            False   \n",
      "2                  443  2022-06-24                  4.82            False   \n",
      "3                   69  2022-06-28                  4.78            False   \n",
      "4                  464  2022-09-11                  4.73            False   \n",
      "...                ...         ...                   ...              ...   \n",
      "6461                44  2021-11-10                  4.84            False   \n",
      "6463                11  2021-05-08                  4.91            False   \n",
      "6465                 1  2021-11-09                  5.00            False   \n",
      "6469                 1  2022-02-27                  5.00            False   \n",
      "6471                39  2022-08-20                  4.87             True   \n",
      "\n",
      "      is_private_room  is_private_bath baths  is_private_overall  \n",
      "0                True             True     1                True  \n",
      "1                True            False     2               False  \n",
      "2                True             True     1                True  \n",
      "3                True             True     1                True  \n",
      "4                True             True     1                True  \n",
      "...               ...              ...   ...                 ...  \n",
      "6461             True             True     2                True  \n",
      "6463             True             True     1                True  \n",
      "6465             True             True     1                True  \n",
      "6469             True             True     1                True  \n",
      "6471             True             True     1                True  \n",
      "\n",
      "[2497 rows x 30 columns]\n",
      "         listing_id       date  available  minimum_nights  maximum_nights\n",
      "0           1824864 2022-09-15       True             2.0          1125.0\n",
      "1           1824864 2022-09-16      False             2.0          1125.0\n",
      "2           1824864 2022-09-17      False             2.0          1125.0\n",
      "3           1824864 2022-09-18       True             2.0          1125.0\n",
      "4           1824864 2022-09-19       True             2.0          1125.0\n",
      "...             ...        ...        ...             ...             ...\n",
      "2362263     2791050 2023-09-10       True             2.0          1125.0\n",
      "2362264     2791050 2023-09-11       True             2.0          1125.0\n",
      "2362265     2791050 2023-09-12       True             2.0          1125.0\n",
      "2362266     2791050 2023-09-13       True             2.0          1125.0\n",
      "2362267     2791050 2023-09-14       True             2.0          1125.0\n",
      "\n",
      "[2362268 rows x 5 columns]\n",
      "listing_id                 int64\n",
      "date              datetime64[ns]\n",
      "available                   bool\n",
      "minimum_nights           float64\n",
      "maximum_nights           float64\n",
      "dtype: object\n"
     ]
    }
   ],
   "source": [
    "# WASHINGTON DC CLEANING\n",
    "\n",
    "dc_listings_df = pd.read_csv(\"listings/dc_listings.csv\")\n",
    "\n",
    "dc_listings_df = dc_listings_df[dc_listings_df[\"host_about\"].notna()]\n",
    "dc_listings_df = dc_listings_df[dc_listings_df[\"host_response_time\"].notna()]\n",
    "dc_listings_df = dc_listings_df[dc_listings_df[\"host_response_rate\"].notna()]\n",
    "dc_listings_df = dc_listings_df[dc_listings_df[\"host_acceptance_rate\"].notna()]\n",
    "dc_listings_df = dc_listings_df[dc_listings_df[\"last_review\"].notna()]\n",
    "dc_listings_df = dc_listings_df[dc_listings_df[\"review_scores_rating\"].notna()]\n",
    "dc_listings_df = dc_listings_df[dc_listings_df[\"description\"].notna()]\n",
    "dc_listings_df = dc_listings_df[dc_listings_df[\"beds\"].notna()]\n",
    "dc_listings_df = dc_listings_df[dc_listings_df[\"bedrooms\"].notna()]\n",
    "dc_listings_df = dc_listings_df[dc_listings_df[\"bathrooms_text\"].notna()]\n",
    "\n",
    "dc_listings_df = dc_listings_df[dc_listings_df[\"host_about\"].apply(is_string)]\n",
    "dc_listings_df = dc_listings_df[dc_listings_df[\"name\"].apply(is_string)]\n",
    "dc_listings_df = dc_listings_df[dc_listings_df[\"description\"].apply(is_string)]\n",
    "\n",
    "dc_listings_df[\"host_response_rate\"] = dc_listings_df[\"host_response_rate\"].apply(percent_to_float)\n",
    "dc_listings_df[\"host_acceptance_rate\"] = dc_listings_df[\"host_acceptance_rate\"].apply(percent_to_float)\n",
    "dc_listings_df[\"price\"] = dc_listings_df[\"price\"].apply(dollar_to_float)\n",
    "dc_listings_df[\"instant_bookable\"] = dc_listings_df[\"instant_bookable\"].apply(str_to_bool)\n",
    "dc_listings_df[\"host_identity_verified\"] = dc_listings_df[\"host_identity_verified\"].apply(str_to_bool)\n",
    "dc_listings_df[\"host_has_profile_pic\"] = dc_listings_df[\"host_has_profile_pic\"].apply(str_to_bool)\n",
    "dc_listings_df[\"host_is_superhost\"] = dc_listings_df[\"host_is_superhost\"].apply(str_to_bool)\n",
    "dc_listings_df[\"host_response_time\"] = dc_listings_df[\"host_response_time\"].apply(host_response_time_to_int)\n",
    "dc_listings_df[\"amenities\"] = dc_listings_df[\"amenities\"].apply(amenities_to_list)\n",
    "\n",
    "dc_listings_df[\"is_private_room\"] = dc_listings_df[\"room_type\"].apply(room_type_to_bool)\n",
    "dc_listings_df[\"is_private_bath\"] = dc_listings_df[\"bathrooms_text\"].apply(bathrooms_text_to_bool)\n",
    "dc_listings_df[\"baths\"] = dc_listings_df[\"bathrooms_text\"].apply(bathroom_text_to_float)\n",
    "dc_listings_df[\"is_private_overall\"] = dc_listings_df[\"is_private_room\"] & dc_listings_df[\"is_private_bath\"]\n",
    "\n",
    "dc_listings_df[\"host_since\"] = pd.to_datetime(dc_listings_df[\"host_since\"])\n",
    "dc_listings_df[\"last_review\"] = pd.to_datetime(dc_listings_df[\"last_review\"])\n",
    "\n",
    "print(dc_listings_df.dtypes)\n",
    "print(dc_listings_df.shape)\n",
    "print(dc_listings_df)\n",
    "\n",
    "dc_calendar_df = pd.read_csv(\"calendars/dc_calendar.csv\")\n",
    "dc_calendar_df = dc_calendar_df.drop(\"price\", axis=1)\n",
    "dc_calendar_df = dc_calendar_df.drop(\"adjusted_price\", axis=1)\n",
    "dc_calendar_df[\"date\"] = pd.to_datetime(dc_calendar_df[\"date\"])\n",
    "dc_calendar_df[\"available\"] = dc_calendar_df[\"available\"].apply(str_to_bool)\n",
    "\n",
    "print(dc_calendar_df)\n",
    "print(dc_calendar_df.dtypes)"
   ]
  },
  {
   "cell_type": "code",
   "execution_count": 54,
   "metadata": {},
   "outputs": [
    {
     "name": "stdout",
     "output_type": "stream",
     "text": [
      "Returning data to local variable dc_bookings_df\n",
      "Returning data to local variable dc_combined_df\n",
      "Returning data to local variable dc_listings_df\n",
      "Returning data to local variable dc_combined_df\n"
     ]
    }
   ],
   "source": [
    "%sql dc_bookings_df << (SELECT listing_id, COUNT(available) AS days_booked FROM dc_calendar_df WHERE available = False GROUP BY listing_id)\n",
    "%sql dc_combined_df << (SELECT * FROM dc_listings_df LEFT JOIN dc_bookings_df ON dc_listings_df.id = dc_bookings_df.listing_id)\n",
    "%sql dc_listings_df << SELECT * FROM dc_listings_df ORDER BY price \n",
    "%sql dc_combined_df << SELECT * FROM dc_combined_df ORDER BY price "
   ]
  },
  {
   "cell_type": "code",
   "execution_count": 55,
   "metadata": {},
   "outputs": [],
   "source": [
    "dc_combined_df = dc_combined_df.drop(columns = 'listing_id')\n",
    "dc_listings_df = dc_listings_df.drop([2493, 2494])\n",
    "dc_combined_df = dc_combined_df.drop([2493, 2494])"
   ]
  },
  {
   "cell_type": "markdown",
   "metadata": {},
   "source": [
    "#### DC Amenity Scraping"
   ]
  },
  {
   "cell_type": "code",
   "execution_count": 56,
   "metadata": {},
   "outputs": [],
   "source": [
    "dc_amenities_df = pd.DataFrame(dc_combined_df['amenities'])\n",
    "dc_amenities_list_accum = []\n",
    "df_len = len(dc_amenities_df.index)\n",
    "for i in range(0,df_len):\n",
    "    x = ast.literal_eval(dc_amenities_df.iloc[i, 0])\n",
    "    dc_amenities_list_accum.append(x)"
   ]
  },
  {
   "cell_type": "code",
   "execution_count": 57,
   "metadata": {},
   "outputs": [],
   "source": [
    "dc_amenities_frequency={}\n",
    "for list in dc_amenities_list_accum:\n",
    "    for item in list:\n",
    "        if item in dc_amenities_frequency:\n",
    "            dc_amenities_frequency[item] += 1\n",
    "        else:\n",
    "            dc_amenities_frequency[item] = 1"
   ]
  },
  {
   "cell_type": "code",
   "execution_count": 58,
   "metadata": {},
   "outputs": [],
   "source": [
    "dc_amenities_df = pd.DataFrame(dc_amenities_frequency, index=[0])\n",
    "dc_amenities_list = dc_amenities_df.columns"
   ]
  },
  {
   "cell_type": "code",
   "execution_count": 59,
   "metadata": {},
   "outputs": [],
   "source": [
    "dc_amenities_df = pd.melt(dc_amenities_df, value_vars=dc_amenities_list, value_name='dc_count')"
   ]
  },
  {
   "cell_type": "code",
   "execution_count": 60,
   "metadata": {},
   "outputs": [
    {
     "name": "stdout",
     "output_type": "stream",
     "text": [
      "Returning data to local variable dc_amenities_df\n"
     ]
    }
   ],
   "source": [
    "%sql dc_amenities_df << SELECT * FROM dc_amenities_df ORDER BY dc_count DESC FETCH FIRST 50 ROWS ONLY;"
   ]
  },
  {
   "cell_type": "code",
   "execution_count": 61,
   "metadata": {},
   "outputs": [],
   "source": [
    "dc_amenities_df = dc_amenities_df.rename(columns={'variable': 'variable_1'})"
   ]
  },
  {
   "cell_type": "markdown",
   "metadata": {},
   "source": [
    "## Dallas Cleaning"
   ]
  },
  {
   "cell_type": "code",
   "execution_count": 62,
   "metadata": {},
   "outputs": [
    {
     "name": "stdout",
     "output_type": "stream",
     "text": [
      "id                               float64\n",
      "name                              object\n",
      "description                       object\n",
      "host_since                datetime64[ns]\n",
      "host_about                        object\n",
      "host_response_time                 int64\n",
      "host_response_rate               float64\n",
      "host_acceptance_rate             float64\n",
      "host_is_superhost                   bool\n",
      "host_listings_count                int64\n",
      "host_has_profile_pic                bool\n",
      "host_identity_verified              bool\n",
      "neighbourhood_cleansed            object\n",
      "room_type                         object\n",
      "accommodates                       int64\n",
      "bathrooms_text                    object\n",
      "bedrooms                         float64\n",
      "beds                             float64\n",
      "amenities                         object\n",
      "price                            float64\n",
      "minimum_nights                     int64\n",
      "maximum_nights                     int64\n",
      "number_of_reviews                  int64\n",
      "last_review               datetime64[ns]\n",
      "review_scores_rating             float64\n",
      "instant_bookable                    bool\n",
      "is_private_room                     bool\n",
      "is_private_bath                     bool\n",
      "baths                              int64\n",
      "is_private_overall                  bool\n",
      "dtype: object\n",
      "(2801, 30)\n",
      "              id                                               name  \\\n",
      "0        61878.0                      MODERN LIVING AND FURNISHINGS   \n",
      "1       776810.0                              Goldies Bohemian Loft   \n",
      "2       795703.0           Amazing location walk to Downtown Dallas   \n",
      "3       826118.0                      Far North Dallas -- Blue Room   \n",
      "4       826178.0                    Far North Dallas -- Orange Room   \n",
      "...          ...                                                ...   \n",
      "6526  53063321.0           Master Bedroom downstairs #1 with office   \n",
      "6536  42051927.0    💙 Dallas #1 Long Term Airbnb! 300mbps free WIFI   \n",
      "6538  51908318.0       HGTV Feel Condo in Heart of Dallas Near Food   \n",
      "6539  16016081.0               UPSCALE UPSTAIRS IN A GOLF COMMUNITY   \n",
      "6541  14694994.0  Tranquility Rm FREE Wi-Fi&parkng Grace Garden Inn   \n",
      "\n",
      "                                            description host_since  \\\n",
      "0     Close to downtown and Uptown.  Fast and conven... 2010-11-26   \n",
      "1     <b>The space</b><br />Amazing and Colorful  2-... 2012-11-08   \n",
      "2     ***** Over 30% Discounts for stays over 30 day... 2012-11-19   \n",
      "3     <b>The space</b><br />Second-floor bedroom wit... 2011-07-11   \n",
      "4     Orange Room contains a bathroom suite with toi... 2011-07-11   \n",
      "...                                                 ...        ...   \n",
      "6526  Come home and relax in a Warm and inviting Mas... 2021-08-24   \n",
      "6536  Charming 2 BR in the heart of Carrollton , TX.... 2016-02-24   \n",
      "6538  Comfortable Condo with HGTV feel in the heart ... 2019-08-28   \n",
      "6539  My place is walking distance to golf, tennis, ... 2016-06-26   \n",
      "6541  This bedroom is furnished in 1920's William an... 2014-11-26   \n",
      "\n",
      "                                             host_about  host_response_time  \\\n",
      "0     \"Love is Love\" :)\\nI'm originally from Florida...                   0   \n",
      "1     Hi, my name is Eric and I work globally as a r...                   1   \n",
      "2     I love to spend time with family and friends. ...                   0   \n",
      "3     Bookmaker (both print and electronic) to major...                   2   \n",
      "4     Bookmaker (both print and electronic) to major...                   2   \n",
      "...                                                 ...                 ...   \n",
      "6526  WE are Christian Family.  I love to help other...                   0   \n",
      "6536  At Rivers Retreats we have a team of trained t...                   0   \n",
      "6538  My name is Lusyomo pronounced \"Loosh-omo\".  I ...                   0   \n",
      "6539  Single, nurse, I have a fiancé,I’m a mother an...                   0   \n",
      "6541  Retirement was just too boring so I listed som...                   1   \n",
      "\n",
      "      host_response_rate  host_acceptance_rate  host_is_superhost  \\\n",
      "0                    1.0                  1.00              False   \n",
      "1                    1.0                  0.00              False   \n",
      "2                    1.0                  1.00               True   \n",
      "3                    0.9                  0.80              False   \n",
      "4                    0.9                  0.80              False   \n",
      "...                  ...                   ...                ...   \n",
      "6526                 1.0                  1.00              False   \n",
      "6536                 1.0                  1.00              False   \n",
      "6538                 1.0                  1.00               True   \n",
      "6539                 1.0                  0.79               True   \n",
      "6541                 1.0                  1.00               True   \n",
      "\n",
      "      host_listings_count  ...  minimum_nights  maximum_nights  \\\n",
      "0                       2  ...              30            1125   \n",
      "1                       1  ...               5            1125   \n",
      "2                       2  ...              30            1125   \n",
      "3                       3  ...               2             180   \n",
      "4                       3  ...               2              30   \n",
      "...                   ...  ...             ...             ...   \n",
      "6526                    3  ...               1             365   \n",
      "6536                   15  ...              30            1125   \n",
      "6538                    1  ...              30             365   \n",
      "6539                    3  ...              14            1125   \n",
      "6541                    6  ...               1              28   \n",
      "\n",
      "     number_of_reviews last_review  review_scores_rating instant_bookable  \\\n",
      "0                   46  2022-08-08                  4.73             True   \n",
      "1                   29  2020-03-26                  4.90            False   \n",
      "2                   69  2021-11-19                  4.84            False   \n",
      "3                   20  2022-06-02                  4.79            False   \n",
      "4                   23  2020-01-31                  5.00            False   \n",
      "...                ...         ...                   ...              ...   \n",
      "6526                67  2022-09-04                  4.91             True   \n",
      "6536                39  2022-05-08                  4.82             True   \n",
      "6538                 2  2022-08-31                  5.00            False   \n",
      "6539                22  2022-08-21                  4.73            False   \n",
      "6541                20  2022-08-20                  4.95             True   \n",
      "\n",
      "      is_private_room  is_private_bath baths  is_private_overall  \n",
      "0                True             True     1                True  \n",
      "1                True             True     1                True  \n",
      "2                True             True     1                True  \n",
      "3                True             True     1                True  \n",
      "4                True             True     1                True  \n",
      "...               ...              ...   ...                 ...  \n",
      "6526             True             True     1                True  \n",
      "6536             True             True     2                True  \n",
      "6538             True             True     1                True  \n",
      "6539             True            False     1               False  \n",
      "6541             True            False     1               False  \n",
      "\n",
      "[2801 rows x 30 columns]\n",
      "         listing_id       date  available  minimum_nights  maximum_nights\n",
      "0             61878 2022-09-14      False            30.0          1125.0\n",
      "1             61878 2022-09-15      False            30.0          1125.0\n",
      "2             61878 2022-09-16      False            30.0          1125.0\n",
      "3             61878 2022-09-17      False            30.0          1125.0\n",
      "4             61878 2022-09-18      False            30.0          1125.0\n",
      "...             ...        ...        ...             ...             ...\n",
      "2389285     9079838 2023-09-09       True             1.0          1125.0\n",
      "2389286     9079838 2023-09-10       True             1.0          1125.0\n",
      "2389287     9079838 2023-09-11       True             1.0          1125.0\n",
      "2389288     9079838 2023-09-12       True             1.0          1125.0\n",
      "2389289     9079838 2023-09-13       True             1.0          1125.0\n",
      "\n",
      "[2389290 rows x 5 columns]\n",
      "listing_id                 int64\n",
      "date              datetime64[ns]\n",
      "available                   bool\n",
      "minimum_nights           float64\n",
      "maximum_nights           float64\n",
      "dtype: object\n"
     ]
    }
   ],
   "source": [
    "# DALLAS CLEANING\n",
    "\n",
    "dal_listings_df = pd.read_csv(\"listings/dal_listings.csv\")\n",
    "\n",
    "dal_listings_df = dal_listings_df[dal_listings_df[\"host_about\"].notna()]\n",
    "dal_listings_df = dal_listings_df[dal_listings_df[\"host_response_time\"].notna()]\n",
    "dal_listings_df = dal_listings_df[dal_listings_df[\"host_response_rate\"].notna()]\n",
    "dal_listings_df = dal_listings_df[dal_listings_df[\"host_acceptance_rate\"].notna()]\n",
    "dal_listings_df = dal_listings_df[dal_listings_df[\"last_review\"].notna()]\n",
    "dal_listings_df = dal_listings_df[dal_listings_df[\"review_scores_rating\"].notna()]\n",
    "dal_listings_df = dal_listings_df[dal_listings_df[\"description\"].notna()]\n",
    "dal_listings_df = dal_listings_df[dal_listings_df[\"beds\"].notna()]\n",
    "dal_listings_df = dal_listings_df[dal_listings_df[\"bedrooms\"].notna()]\n",
    "dal_listings_df = dal_listings_df[dal_listings_df[\"bathrooms_text\"].notna()]\n",
    "\n",
    "dal_listings_df = dal_listings_df[dal_listings_df[\"host_about\"].apply(is_string)]\n",
    "dal_listings_df = dal_listings_df[dal_listings_df[\"name\"].apply(is_string)]\n",
    "dal_listings_df = dal_listings_df[dal_listings_df[\"description\"].apply(is_string)]\n",
    "\n",
    "dal_listings_df[\"host_response_rate\"] = dal_listings_df[\"host_response_rate\"].apply(percent_to_float)\n",
    "dal_listings_df[\"host_acceptance_rate\"] = dal_listings_df[\"host_acceptance_rate\"].apply(percent_to_float)\n",
    "dal_listings_df[\"price\"] = dal_listings_df[\"price\"].apply(dollar_to_float)\n",
    "dal_listings_df[\"instant_bookable\"] = dal_listings_df[\"instant_bookable\"].apply(str_to_bool)\n",
    "dal_listings_df[\"host_identity_verified\"] = dal_listings_df[\"host_identity_verified\"].apply(str_to_bool)\n",
    "dal_listings_df[\"host_has_profile_pic\"] = dal_listings_df[\"host_has_profile_pic\"].apply(str_to_bool)\n",
    "dal_listings_df[\"host_is_superhost\"] = dal_listings_df[\"host_is_superhost\"].apply(str_to_bool)\n",
    "dal_listings_df[\"host_response_time\"] = dal_listings_df[\"host_response_time\"].apply(host_response_time_to_int)\n",
    "dal_listings_df[\"amenities\"] = dal_listings_df[\"amenities\"].apply(amenities_to_list)\n",
    "\n",
    "dal_listings_df[\"is_private_room\"] = dal_listings_df[\"room_type\"].apply(room_type_to_bool)\n",
    "dal_listings_df[\"is_private_bath\"] = dal_listings_df[\"bathrooms_text\"].apply(bathrooms_text_to_bool)\n",
    "dal_listings_df[\"baths\"] = dal_listings_df[\"bathrooms_text\"].apply(bathroom_text_to_float)\n",
    "dal_listings_df[\"is_private_overall\"] = dal_listings_df[\"is_private_room\"] & dal_listings_df[\"is_private_bath\"]\n",
    "\n",
    "dal_listings_df[\"host_since\"] = pd.to_datetime(dal_listings_df[\"host_since\"])\n",
    "dal_listings_df[\"last_review\"] = pd.to_datetime(dal_listings_df[\"last_review\"])\n",
    "\n",
    "print(dal_listings_df.dtypes)\n",
    "print(dal_listings_df.shape)\n",
    "print(dal_listings_df)\n",
    "\n",
    "dal_calendar_df = pd.read_csv(\"calendars/dal_calendar.csv\")\n",
    "dal_calendar_df = dal_calendar_df.drop(\"price\", axis=1)\n",
    "dal_calendar_df = dal_calendar_df.drop(\"adjusted_price\", axis=1)\n",
    "dal_calendar_df[\"date\"] = pd.to_datetime(dal_calendar_df[\"date\"])\n",
    "dal_calendar_df[\"available\"] = dal_calendar_df[\"available\"].apply(str_to_bool)\n",
    "\n",
    "print(dal_calendar_df)\n",
    "print(dal_calendar_df.dtypes)"
   ]
  },
  {
   "cell_type": "code",
   "execution_count": 63,
   "metadata": {},
   "outputs": [
    {
     "name": "stdout",
     "output_type": "stream",
     "text": [
      "Returning data to local variable dal_bookings_df\n",
      "Returning data to local variable dal_combined_df\n",
      "Returning data to local variable dal_listings_df\n",
      "Returning data to local variable dal_combined_df\n"
     ]
    }
   ],
   "source": [
    "%sql dal_bookings_df << (SELECT listing_id, COUNT(available) AS days_booked FROM dal_calendar_df WHERE available = False GROUP BY listing_id)\n",
    "%sql dal_combined_df << (SELECT * FROM dal_listings_df LEFT JOIN dal_bookings_df ON dal_listings_df.id = dal_bookings_df.listing_id)\n",
    "%sql dal_listings_df << SELECT * FROM dal_listings_df ORDER BY price \n",
    "%sql dal_combined_df << SELECT * FROM dal_combined_df ORDER BY price "
   ]
  },
  {
   "cell_type": "code",
   "execution_count": 64,
   "metadata": {},
   "outputs": [],
   "source": [
    "dal_combined_df = dal_combined_df.drop(columns = 'listing_id')\n",
    "dal_listings_df = dal_listings_df.drop([2795])\n",
    "dal_combined_df = dal_combined_df.drop([2795])"
   ]
  },
  {
   "cell_type": "markdown",
   "metadata": {},
   "source": [
    "#### DAL Amenity Scraping\n"
   ]
  },
  {
   "cell_type": "code",
   "execution_count": 65,
   "metadata": {},
   "outputs": [],
   "source": [
    "dal_amenities_df = pd.DataFrame(dal_combined_df['amenities'])\n",
    "dal_amenities_list_accum = []\n",
    "df_len = len(dal_amenities_df.index)\n",
    "for i in range(0,df_len):\n",
    "    x = ast.literal_eval(dal_amenities_df.iloc[i, 0])\n",
    "    dal_amenities_list_accum.append(x)"
   ]
  },
  {
   "cell_type": "code",
   "execution_count": 66,
   "metadata": {},
   "outputs": [],
   "source": [
    "dal_amenities_frequency={}\n",
    "for list in dal_amenities_list_accum:\n",
    "    for item in list:\n",
    "        if item in dal_amenities_frequency:\n",
    "            dal_amenities_frequency[item] += 1\n",
    "        else:\n",
    "            dal_amenities_frequency[item] = 1"
   ]
  },
  {
   "cell_type": "code",
   "execution_count": 67,
   "metadata": {},
   "outputs": [],
   "source": [
    "dal_amenities_df = pd.DataFrame(dal_amenities_frequency, index=[0])\n",
    "dal_amenities_list = dal_amenities_df.columns"
   ]
  },
  {
   "cell_type": "code",
   "execution_count": 68,
   "metadata": {},
   "outputs": [],
   "source": [
    "dal_amenities_df = pd.melt(dal_amenities_df, value_vars=dal_amenities_list, value_name='dal_count')"
   ]
  },
  {
   "cell_type": "code",
   "execution_count": 69,
   "metadata": {},
   "outputs": [
    {
     "name": "stdout",
     "output_type": "stream",
     "text": [
      "Returning data to local variable dal_amenities_df\n"
     ]
    }
   ],
   "source": [
    "%sql dal_amenities_df << SELECT * FROM dal_amenities_df ORDER BY dal_count DESC FETCH FIRST 50 ROWS ONLY;"
   ]
  },
  {
   "cell_type": "code",
   "execution_count": 70,
   "metadata": {},
   "outputs": [],
   "source": [
    "dal_amenities_df = dal_amenities_df.rename(columns={'variable': 'variable_1'})"
   ]
  },
  {
   "cell_type": "markdown",
   "metadata": {},
   "source": [
    "## Las Vegas Cleaning"
   ]
  },
  {
   "cell_type": "code",
   "execution_count": 71,
   "metadata": {},
   "outputs": [
    {
     "name": "stdout",
     "output_type": "stream",
     "text": [
      "id                               float64\n",
      "name                              object\n",
      "description                       object\n",
      "host_since                datetime64[ns]\n",
      "host_about                        object\n",
      "host_response_time                 int64\n",
      "host_response_rate               float64\n",
      "host_acceptance_rate             float64\n",
      "host_is_superhost                   bool\n",
      "host_listings_count              float64\n",
      "host_has_profile_pic                bool\n",
      "host_identity_verified              bool\n",
      "neighbourhood_cleansed            object\n",
      "room_type                         object\n",
      "accommodates                       int64\n",
      "bathrooms_text                    object\n",
      "bedrooms                         float64\n",
      "beds                             float64\n",
      "amenities                         object\n",
      "price                            float64\n",
      "minimum_nights                     int64\n",
      "maximum_nights                     int64\n",
      "number_of_reviews                  int64\n",
      "last_review               datetime64[ns]\n",
      "review_scores_rating             float64\n",
      "instant_bookable                    bool\n",
      "is_private_room                     bool\n",
      "is_private_bath                     bool\n",
      "baths                            float64\n",
      "is_private_overall                  bool\n",
      "dtype: object\n",
      "(4970, 30)\n",
      "               id                                               name  \\\n",
      "0         44701.0        Jan1-8, 2023, New Years Plus CES conference   \n",
      "1       1230857.0  2 Private Bedrooms in SW Las Vegas (Shared House)   \n",
      "2        113019.0                      MGM Signature Studio W/ View!   \n",
      "3       1241814.0           ☀2Br❂ Wyndham Grand Desert Resort IB-❂L2   \n",
      "4        114140.0                MGM Signature 1BR/2BA Suite W/ View   \n",
      "...           ...                                                ...   \n",
      "14795  52655852.0            Pool Home (1254) 3bd/2ba 1 King 2 Queen   \n",
      "14800  48510464.0      2 bedroom cozy SUITE, 1 min walk to the beach   \n",
      "14801  48548796.0                                          Love nest   \n",
      "14802  32236275.0  Bullhead City Home w/ Fire Pit - Walk to CO Ri...   \n",
      "14804  53835732.0  Beautiful 2-bedroom condo w/ pool and river ac...   \n",
      "\n",
      "                                             description host_since  \\\n",
      "0      Furnished Vila. Holiday Inn Desert Club, One b... 2010-08-02   \n",
      "1      Two bedrooms available for rent in house in so... 2010-01-15   \n",
      "2      *3 night minimum, will accept 2 nights on occa... 2011-05-10   \n",
      "3      Located one block (a 10 minute walk) from the ... 2012-07-20   \n",
      "4      *3 night minimum, will accept 2 nights on occa... 2011-05-10   \n",
      "...                                                  ...        ...   \n",
      "14795  <b>The space</b><br />POOL HOME (1254) Enjoy t... 2017-11-12   \n",
      "14800  The area is a perfect base to explore the Colo... 2020-05-13   \n",
      "14801  Beautiful remodeled 1 bedroom unit, downstairs... 2020-05-13   \n",
      "14802  Need a break from city stresses? Book a trip t... 2017-03-27   \n",
      "14804  Easy river access. Close to the Laughlin casin... 2021-09-08   \n",
      "\n",
      "                                              host_about  host_response_time  \\\n",
      "0      Every journey begins with a single step. Pleas...                   1   \n",
      "1      Las Vegas local and loving it!\\n\\nMy backgroun...                   0   \n",
      "2      I am a real estate investor and business woman...                   2   \n",
      "3      Hoping to help you find the perfect place for ...                   1   \n",
      "4      I am a real estate investor and business woman...                   2   \n",
      "...                                                  ...                 ...   \n",
      "14795  Welcome!  “We’re not just a place to stay” Cre...                   2   \n",
      "14800  The Haven River Lodge has been taken over by n...                   0   \n",
      "14801  The Haven River Lodge has been taken over by n...                   0   \n",
      "14802  Hi! We’re Evolve, the hospitality team that he...                   0   \n",
      "14804  We are ready to help and answer any questions....                   0   \n",
      "\n",
      "       host_response_rate  host_acceptance_rate  host_is_superhost  \\\n",
      "0                    1.00                  0.42              False   \n",
      "1                    1.00                  0.92              False   \n",
      "2                    0.98                  0.34              False   \n",
      "3                    0.90                  0.90               True   \n",
      "4                    0.98                  0.34              False   \n",
      "...                   ...                   ...                ...   \n",
      "14795                0.90                  1.00               True   \n",
      "14800                1.00                  1.00              False   \n",
      "14801                1.00                  1.00              False   \n",
      "14802                1.00                  0.99               True   \n",
      "14804                1.00                  0.98               True   \n",
      "\n",
      "       host_listings_count  ...  minimum_nights  maximum_nights  \\\n",
      "0                      2.0  ...               7               7   \n",
      "1                      2.0  ...               2               8   \n",
      "2                     12.0  ...               2             365   \n",
      "3                     91.0  ...               2            1125   \n",
      "4                     12.0  ...               2            1125   \n",
      "...                    ...  ...             ...             ...   \n",
      "14795                 24.0  ...               3             365   \n",
      "14800                  9.0  ...               2             365   \n",
      "14801                  9.0  ...               2             365   \n",
      "14802                612.0  ...               2            1125   \n",
      "14804                  4.0  ...              15              90   \n",
      "\n",
      "      number_of_reviews last_review  review_scores_rating instant_bookable  \\\n",
      "0                     3  2022-01-08                  5.00            False   \n",
      "1                     3  2022-06-12                  4.33            False   \n",
      "2                   173  2022-08-10                  4.62            False   \n",
      "3                   109  2021-10-25                  4.82             True   \n",
      "4                   133  2022-07-26                  4.66            False   \n",
      "...                 ...         ...                   ...              ...   \n",
      "14795                 1  2022-07-04                  4.00             True   \n",
      "14800                54  2022-08-21                  4.57             True   \n",
      "14801                29  2022-07-19                  4.66             True   \n",
      "14802                20  2022-06-19                  4.75             True   \n",
      "14804                 7  2022-08-08                  4.86            False   \n",
      "\n",
      "       is_private_room  is_private_bath baths  is_private_overall  \n",
      "0                 True             True   2.0                True  \n",
      "1                 True            False   1.0               False  \n",
      "2                 True             True   1.0                True  \n",
      "3                 True             True   2.0                True  \n",
      "4                 True             True   2.0                True  \n",
      "...                ...              ...   ...                 ...  \n",
      "14795             True             True   2.0                True  \n",
      "14800             True             True   1.0                True  \n",
      "14801             True             True   1.0                True  \n",
      "14802             True             True   2.0                True  \n",
      "14804             True             True   2.0                True  \n",
      "\n",
      "[4970 rows x 30 columns]\n",
      "         listing_id       date  available  minimum_nights  maximum_nights\n",
      "0           2084214 2022-09-15       True            31.0           365.0\n",
      "1             44701 2022-09-16      False             7.0             7.0\n",
      "2             44701 2022-09-17      False             7.0             7.0\n",
      "3             44701 2022-09-18      False             7.0             7.0\n",
      "4             44701 2022-09-19      False             7.0             7.0\n",
      "...             ...        ...        ...             ...             ...\n",
      "5404918    44405892 2023-09-10      False             2.0             5.0\n",
      "5404919    44405892 2023-09-11      False             2.0             5.0\n",
      "5404920    44405892 2023-09-12      False             2.0             5.0\n",
      "5404921    44405892 2023-09-13      False             2.0             5.0\n",
      "5404922    44405892 2023-09-14      False             2.0             5.0\n",
      "\n",
      "[5404923 rows x 5 columns]\n",
      "listing_id                 int64\n",
      "date              datetime64[ns]\n",
      "available                   bool\n",
      "minimum_nights           float64\n",
      "maximum_nights           float64\n",
      "dtype: object\n"
     ]
    }
   ],
   "source": [
    "# LAS VEGAS CLEANING\n",
    "\n",
    "lv_listings_df = pd.read_csv(\"listings/lv_listings.csv\")\n",
    "\n",
    "lv_listings_df = lv_listings_df[lv_listings_df[\"host_about\"].notna()]\n",
    "lv_listings_df = lv_listings_df[lv_listings_df[\"host_response_time\"].notna()]\n",
    "lv_listings_df = lv_listings_df[lv_listings_df[\"host_response_rate\"].notna()]\n",
    "lv_listings_df = lv_listings_df[lv_listings_df[\"host_acceptance_rate\"].notna()]\n",
    "lv_listings_df = lv_listings_df[lv_listings_df[\"last_review\"].notna()]\n",
    "lv_listings_df = lv_listings_df[lv_listings_df[\"review_scores_rating\"].notna()]\n",
    "lv_listings_df = lv_listings_df[lv_listings_df[\"description\"].notna()]\n",
    "lv_listings_df = lv_listings_df[lv_listings_df[\"beds\"].notna()]\n",
    "lv_listings_df = lv_listings_df[lv_listings_df[\"bedrooms\"].notna()]\n",
    "lv_listings_df = lv_listings_df[lv_listings_df[\"bathrooms_text\"].notna()]\n",
    "\n",
    "lv_listings_df = lv_listings_df[lv_listings_df[\"host_about\"].apply(is_string)]\n",
    "lv_listings_df = lv_listings_df[lv_listings_df[\"name\"].apply(is_string)]\n",
    "lv_listings_df = lv_listings_df[lv_listings_df[\"description\"].apply(is_string)]\n",
    "\n",
    "lv_listings_df[\"host_response_rate\"] = lv_listings_df[\"host_response_rate\"].apply(percent_to_float)\n",
    "lv_listings_df[\"host_acceptance_rate\"] = lv_listings_df[\"host_acceptance_rate\"].apply(percent_to_float)\n",
    "lv_listings_df[\"price\"] = lv_listings_df[\"price\"].apply(dollar_to_float)\n",
    "lv_listings_df[\"instant_bookable\"] = lv_listings_df[\"instant_bookable\"].apply(str_to_bool)\n",
    "lv_listings_df[\"host_identity_verified\"] = lv_listings_df[\"host_identity_verified\"].apply(str_to_bool)\n",
    "lv_listings_df[\"host_has_profile_pic\"] = lv_listings_df[\"host_has_profile_pic\"].apply(str_to_bool)\n",
    "lv_listings_df[\"host_is_superhost\"] = lv_listings_df[\"host_is_superhost\"].apply(str_to_bool)\n",
    "lv_listings_df[\"host_response_time\"] = lv_listings_df[\"host_response_time\"].apply(host_response_time_to_int)\n",
    "lv_listings_df[\"amenities\"] = lv_listings_df[\"amenities\"].apply(amenities_to_list)\n",
    "\n",
    "lv_listings_df[\"is_private_room\"] = lv_listings_df[\"room_type\"].apply(room_type_to_bool)\n",
    "lv_listings_df[\"is_private_bath\"] = lv_listings_df[\"bathrooms_text\"].apply(bathrooms_text_to_bool)\n",
    "lv_listings_df[\"baths\"] = lv_listings_df[\"bathrooms_text\"].apply(bathroom_text_to_float)\n",
    "lv_listings_df[\"is_private_overall\"] = lv_listings_df[\"is_private_room\"] & lv_listings_df[\"is_private_bath\"]\n",
    "\n",
    "lv_listings_df[\"host_since\"] = pd.to_datetime(lv_listings_df[\"host_since\"])\n",
    "lv_listings_df[\"last_review\"] = pd.to_datetime(lv_listings_df[\"last_review\"])\n",
    "\n",
    "print(lv_listings_df.dtypes)\n",
    "print(lv_listings_df.shape)\n",
    "print(lv_listings_df)\n",
    "\n",
    "lv_calendar_df = pd.read_csv(\"calendars/lv_calendar.csv\")\n",
    "lv_calendar_df = lv_calendar_df.drop(\"price\", axis=1)\n",
    "lv_calendar_df = lv_calendar_df.drop(\"adjusted_price\", axis=1)\n",
    "lv_calendar_df[\"date\"] = pd.to_datetime(lv_calendar_df[\"date\"])\n",
    "lv_calendar_df[\"available\"] = lv_calendar_df[\"available\"].apply(str_to_bool)\n",
    "\n",
    "print(lv_calendar_df)\n",
    "print(lv_calendar_df.dtypes)"
   ]
  },
  {
   "cell_type": "code",
   "execution_count": 72,
   "metadata": {},
   "outputs": [
    {
     "name": "stdout",
     "output_type": "stream",
     "text": [
      "Returning data to local variable lv_bookings_df\n",
      "Returning data to local variable lv_combined_df\n",
      "Returning data to local variable lv_listings_df\n",
      "Returning data to local variable lv_combined_df\n"
     ]
    }
   ],
   "source": [
    "%sql lv_bookings_df << (SELECT listing_id, COUNT(available) AS days_booked FROM lv_calendar_df WHERE available = False GROUP BY listing_id)\n",
    "%sql lv_combined_df << (SELECT * FROM lv_listings_df LEFT JOIN lv_bookings_df ON lv_listings_df.id = lv_bookings_df.listing_id)\n",
    "%sql lv_listings_df << SELECT * FROM lv_listings_df ORDER BY price \n",
    "%sql lv_combined_df << SELECT * FROM lv_combined_df ORDER BY price "
   ]
  },
  {
   "cell_type": "code",
   "execution_count": 73,
   "metadata": {},
   "outputs": [],
   "source": [
    "lv_combined_df = lv_combined_df.drop(columns = 'listing_id')\n",
    "lv_listings_df = lv_listings_df.drop([4933, 4932, 4931, 4930, 4829, 4928, 4927])\n",
    "lv_combined_df = lv_combined_df.drop([4933, 4932, 4931, 4930, 4829, 4928, 4927])"
   ]
  },
  {
   "cell_type": "markdown",
   "metadata": {},
   "source": [
    "#### LV Amenity Scraping"
   ]
  },
  {
   "cell_type": "code",
   "execution_count": 74,
   "metadata": {},
   "outputs": [],
   "source": [
    "lv_amenities_df = pd.DataFrame(lv_combined_df['amenities'])\n",
    "lv_amenities_list_accum = []\n",
    "df_len = len(lv_amenities_df.index)\n",
    "for i in range(0,df_len):\n",
    "    x = ast.literal_eval(lv_amenities_df.iloc[i, 0])\n",
    "    lv_amenities_list_accum.append(x)"
   ]
  },
  {
   "cell_type": "code",
   "execution_count": 75,
   "metadata": {},
   "outputs": [],
   "source": [
    "lv_amenities_frequency={}\n",
    "for list in lv_amenities_list_accum:\n",
    "    for item in list:\n",
    "        if item in lv_amenities_frequency:\n",
    "            lv_amenities_frequency[item] += 1\n",
    "        else:\n",
    "            lv_amenities_frequency[item] = 1"
   ]
  },
  {
   "cell_type": "code",
   "execution_count": 76,
   "metadata": {},
   "outputs": [],
   "source": [
    "lv_amenities_df = pd.DataFrame(lv_amenities_frequency, index=[0])\n",
    "lv_amenities_list = lv_amenities_df.columns"
   ]
  },
  {
   "cell_type": "code",
   "execution_count": 77,
   "metadata": {},
   "outputs": [],
   "source": [
    "lv_amenities_df = pd.melt(lv_amenities_df, value_vars=lv_amenities_list, value_name='lv_count')"
   ]
  },
  {
   "cell_type": "code",
   "execution_count": 78,
   "metadata": {},
   "outputs": [
    {
     "name": "stdout",
     "output_type": "stream",
     "text": [
      "Returning data to local variable lv_amenities_df\n"
     ]
    }
   ],
   "source": [
    "%sql lv_amenities_df << SELECT * FROM lv_amenities_df ORDER BY lv_count DESC FETCH FIRST 50 ROWS ONLY;"
   ]
  },
  {
   "cell_type": "code",
   "execution_count": 79,
   "metadata": {},
   "outputs": [],
   "source": [
    "lv_amenities_df = lv_amenities_df.rename(columns={'variable': 'variable_1'})"
   ]
  },
  {
   "cell_type": "markdown",
   "metadata": {},
   "source": [
    "## Los Angeles Cleaning"
   ]
  },
  {
   "cell_type": "code",
   "execution_count": 80,
   "metadata": {},
   "outputs": [
    {
     "name": "stdout",
     "output_type": "stream",
     "text": [
      "id                               float64\n",
      "name                              object\n",
      "description                       object\n",
      "host_since                datetime64[ns]\n",
      "host_about                        object\n",
      "host_response_time                 int64\n",
      "host_response_rate               float64\n",
      "host_acceptance_rate             float64\n",
      "host_is_superhost                   bool\n",
      "host_listings_count              float64\n",
      "host_has_profile_pic                bool\n",
      "host_identity_verified              bool\n",
      "neighbourhood_cleansed            object\n",
      "room_type                         object\n",
      "accommodates                       int64\n",
      "bathrooms_text                    object\n",
      "bedrooms                         float64\n",
      "beds                             float64\n",
      "amenities                         object\n",
      "price                            float64\n",
      "minimum_nights                     int64\n",
      "maximum_nights                     int64\n",
      "number_of_reviews                  int64\n",
      "last_review               datetime64[ns]\n",
      "review_scores_rating             float64\n",
      "instant_bookable                    bool\n",
      "is_private_room                     bool\n",
      "is_private_bath                     bool\n",
      "baths                            float64\n",
      "is_private_overall                  bool\n",
      "dtype: object\n",
      "(16077, 30)\n",
      "               id                                               name  \\\n",
      "0        183319.0                  Panoramic Ocean View Venice Beach   \n",
      "5        185536.0     Lovely Private rm in Home to FEMALE (Red Room)   \n",
      "6          2708.0  Runyon Canyon | Beau Furn Mirror Mini-Suite Fi...   \n",
      "7         51546.0                  Cool Pad Under the Hollywood Sign   \n",
      "8        185557.0  Private Room in Home to FEMALE, pls (Purple Room)   \n",
      "...           ...                                                ...   \n",
      "45805  16756347.0           Hidden Treasure, Quiet Downtown HB Jewel   \n",
      "45809  17402506.0  Cozy Bay Cottage near Balboa Village & the beach!   \n",
      "45811  26898605.0  *SANITIZED* Modern Zen Getaway | Relax & Reple...   \n",
      "45812  26895703.0        Simple, Clean, Modern One Bedroom Apartment   \n",
      "45814  27901174.0  *SANITIZED* Forest Zen| KingBD | Updated & Sty...   \n",
      "\n",
      "                                             description host_since  \\\n",
      "0      Craftsmen style penthouse with ocean view from... 2011-07-25   \n",
      "5      <b>The space</b><br />Hello,, Ladies!!! I offe... 2011-07-29   \n",
      "6      Run Runyon Canyon, Our Gym & Sauna Open <br />... 2008-09-16   \n",
      "7      *** Please note, after January 2, 2020 we can ... 2010-09-16   \n",
      "8      <b>The space</b><br />Hello, Ladies!~ I am a f... 2011-07-29   \n",
      "...                                                  ...        ...   \n",
      "45805  Awesome location!  Just steps from Main Street... 2015-08-27   \n",
      "45809  2 Bedroom 1 bath, lower unit of a duplex looki... 2017-02-02   \n",
      "45811  Are you more than ready for a Local Getaway?<b... 2018-07-13   \n",
      "45812  Welcome to Anaheim!  This one bedroom suite ha... 2015-10-20   \n",
      "45814  Now is a great time for meaningful travel with... 2018-07-13   \n",
      "\n",
      "                                              host_about  host_response_time  \\\n",
      "0      Serious yoga practice.  Been studying for 25 y...                   2   \n",
      "5                           Laura..seamstress in L.A. Ca                   1   \n",
      "6      Writer.\\r\\nLiterary Manager.\\r\\nPhotographer.\\...                   0   \n",
      "7      I'm a pretty happy person, I love music, garde...                   1   \n",
      "8                           Laura..seamstress in L.A. Ca                   1   \n",
      "...                                                  ...                 ...   \n",
      "45805  I love to travel and love hosting guests in my...                   0   \n",
      "45809  We are a local Newport Beach property manageme...                   1   \n",
      "45811  Hi! My name is Isabella and I am a first gener...                   0   \n",
      "45812  It is nice finding that place where you can ju...                   0   \n",
      "45814  Hi! My name is Isabella and I am a first gener...                   0   \n",
      "\n",
      "       host_response_rate  host_acceptance_rate  host_is_superhost  \\\n",
      "0                    1.00                  1.00              False   \n",
      "5                    1.00                  0.80              False   \n",
      "6                    1.00                  1.00               True   \n",
      "7                    1.00                  1.00               True   \n",
      "8                    1.00                  0.80              False   \n",
      "...                   ...                   ...                ...   \n",
      "45805                1.00                  0.96               True   \n",
      "45809                0.96                  0.82              False   \n",
      "45811                1.00                  0.98              False   \n",
      "45812                0.98                  0.97              False   \n",
      "45814                1.00                  0.98              False   \n",
      "\n",
      "       host_listings_count  ...  minimum_nights  maximum_nights  \\\n",
      "0                      2.0  ...              30              90   \n",
      "5                      2.0  ...              30             730   \n",
      "6                      2.0  ...              30             550   \n",
      "7                      1.0  ...              31             365   \n",
      "8                      2.0  ...              30             730   \n",
      "...                    ...  ...             ...             ...   \n",
      "45805                  3.0  ...              31            1125   \n",
      "45809                 43.0  ...               3              28   \n",
      "45811                  5.0  ...               1             180   \n",
      "45812                 15.0  ...               1              28   \n",
      "45814                  5.0  ...               1             180   \n",
      "\n",
      "      number_of_reviews last_review  review_scores_rating instant_bookable  \\\n",
      "0                     3  2019-02-25                  5.00            False   \n",
      "5                    13  2022-02-19                  4.42            False   \n",
      "6                    37  2022-03-19                  4.84             True   \n",
      "7                   188  2022-04-29                  4.92            False   \n",
      "8                    12  2022-01-01                  4.92            False   \n",
      "...                 ...         ...                   ...              ...   \n",
      "45805               211  2022-03-31                  4.93             True   \n",
      "45809                 9  2020-08-31                  4.67             True   \n",
      "45811               142  2022-07-30                  4.82            False   \n",
      "45812               209  2022-08-21                  4.75             True   \n",
      "45814               176  2022-08-30                  4.80            False   \n",
      "\n",
      "       is_private_room  is_private_bath baths  is_private_overall  \n",
      "0                 True             True   1.0                True  \n",
      "5                 True            False   1.0               False  \n",
      "6                 True            False   1.0               False  \n",
      "7                 True             True   1.0                True  \n",
      "8                 True            False   1.0               False  \n",
      "...                ...              ...   ...                 ...  \n",
      "45805             True            False   1.0               False  \n",
      "45809             True             True   1.0                True  \n",
      "45811             True             True   1.0                True  \n",
      "45812             True             True   1.0                True  \n",
      "45814             True             True   1.0                True  \n",
      "\n",
      "[16077 rows x 30 columns]\n",
      "          listing_id       date  available  minimum_nights  maximum_nights\n",
      "0             183319 2022-09-10      False            30.0            90.0\n",
      "1              51307 2022-09-10      False            30.0           365.0\n",
      "2              51307 2022-09-11      False            30.0           365.0\n",
      "3              51307 2022-09-12      False            30.0           365.0\n",
      "4              51307 2022-09-13      False            30.0           365.0\n",
      "...              ...        ...        ...             ...             ...\n",
      "16720299    27901174 2023-09-05      False             1.0          1125.0\n",
      "16720300    27901174 2023-09-06      False             1.0          1125.0\n",
      "16720301    27901174 2023-09-07      False             1.0          1125.0\n",
      "16720302    27901174 2023-09-08      False             1.0          1125.0\n",
      "16720303    27901174 2023-09-09      False             1.0          1125.0\n",
      "\n",
      "[16720304 rows x 5 columns]\n",
      "listing_id                 int64\n",
      "date              datetime64[ns]\n",
      "available                   bool\n",
      "minimum_nights           float64\n",
      "maximum_nights           float64\n",
      "dtype: object\n"
     ]
    }
   ],
   "source": [
    "# LOS ANGELES CLEANING\n",
    "\n",
    "la_listings_df = pd.read_csv(\"listings/la_listings.csv\")\n",
    "\n",
    "la_listings_df = la_listings_df[la_listings_df[\"host_about\"].notna()]\n",
    "la_listings_df = la_listings_df[la_listings_df[\"host_response_time\"].notna()]\n",
    "la_listings_df = la_listings_df[la_listings_df[\"host_response_rate\"].notna()]\n",
    "la_listings_df = la_listings_df[la_listings_df[\"host_acceptance_rate\"].notna()]\n",
    "la_listings_df = la_listings_df[la_listings_df[\"last_review\"].notna()]\n",
    "la_listings_df = la_listings_df[la_listings_df[\"review_scores_rating\"].notna()]\n",
    "la_listings_df = la_listings_df[la_listings_df[\"description\"].notna()]\n",
    "la_listings_df = la_listings_df[la_listings_df[\"beds\"].notna()]\n",
    "la_listings_df = la_listings_df[la_listings_df[\"bedrooms\"].notna()]\n",
    "la_listings_df = la_listings_df[la_listings_df[\"bathrooms_text\"].notna()]\n",
    "\n",
    "la_listings_df = la_listings_df[la_listings_df[\"host_about\"].apply(is_string)]\n",
    "la_listings_df = la_listings_df[la_listings_df[\"name\"].apply(is_string)]\n",
    "la_listings_df = la_listings_df[la_listings_df[\"description\"].apply(is_string)]\n",
    "\n",
    "la_listings_df[\"host_response_rate\"] = la_listings_df[\"host_response_rate\"].apply(percent_to_float)\n",
    "la_listings_df[\"host_acceptance_rate\"] = la_listings_df[\"host_acceptance_rate\"].apply(percent_to_float)\n",
    "la_listings_df[\"price\"] = la_listings_df[\"price\"].apply(dollar_to_float)\n",
    "la_listings_df[\"instant_bookable\"] = la_listings_df[\"instant_bookable\"].apply(str_to_bool)\n",
    "la_listings_df[\"host_identity_verified\"] = la_listings_df[\"host_identity_verified\"].apply(str_to_bool)\n",
    "la_listings_df[\"host_has_profile_pic\"] = la_listings_df[\"host_has_profile_pic\"].apply(str_to_bool)\n",
    "la_listings_df[\"host_is_superhost\"] = la_listings_df[\"host_is_superhost\"].apply(str_to_bool)\n",
    "la_listings_df[\"host_response_time\"] = la_listings_df[\"host_response_time\"].apply(host_response_time_to_int)\n",
    "la_listings_df[\"amenities\"] = la_listings_df[\"amenities\"].apply(amenities_to_list)\n",
    "\n",
    "la_listings_df[\"is_private_room\"] = la_listings_df[\"room_type\"].apply(room_type_to_bool)\n",
    "la_listings_df[\"is_private_bath\"] = la_listings_df[\"bathrooms_text\"].apply(bathrooms_text_to_bool)\n",
    "la_listings_df[\"baths\"] = la_listings_df[\"bathrooms_text\"].apply(bathroom_text_to_float)\n",
    "la_listings_df[\"is_private_overall\"] = la_listings_df[\"is_private_room\"] & la_listings_df[\"is_private_bath\"]\n",
    "\n",
    "la_listings_df[\"host_since\"] = pd.to_datetime(la_listings_df[\"host_since\"])\n",
    "la_listings_df[\"last_review\"] = pd.to_datetime(la_listings_df[\"last_review\"])\n",
    "\n",
    "print(la_listings_df.dtypes)\n",
    "print(la_listings_df.shape)\n",
    "print(la_listings_df)\n",
    "\n",
    "la_calendar_df = pd.read_csv(\"calendars/la_calendar.csv\")\n",
    "la_calendar_df = la_calendar_df.drop(\"price\", axis=1)\n",
    "la_calendar_df = la_calendar_df.drop(\"adjusted_price\", axis=1)\n",
    "la_calendar_df[\"date\"] = pd.to_datetime(la_calendar_df[\"date\"])\n",
    "la_calendar_df[\"available\"] = la_calendar_df[\"available\"].apply(str_to_bool)\n",
    "\n",
    "print(la_calendar_df)\n",
    "print(la_calendar_df.dtypes)"
   ]
  },
  {
   "cell_type": "code",
   "execution_count": 81,
   "metadata": {},
   "outputs": [
    {
     "name": "stdout",
     "output_type": "stream",
     "text": [
      "Returning data to local variable la_bookings_df\n",
      "Returning data to local variable la_combined_df\n",
      "Returning data to local variable la_listings_df\n",
      "Returning data to local variable la_combined_df\n"
     ]
    }
   ],
   "source": [
    "%sql la_bookings_df << (SELECT listing_id, COUNT(available) AS days_booked FROM la_calendar_df WHERE available = False GROUP BY listing_id)\n",
    "%sql la_combined_df << (SELECT * FROM la_listings_df LEFT JOIN la_bookings_df ON la_listings_df.id = la_bookings_df.listing_id)\n",
    "%sql la_listings_df << SELECT * FROM la_listings_df ORDER BY price \n",
    "%sql la_combined_df << SELECT * FROM la_combined_df ORDER BY price "
   ]
  },
  {
   "cell_type": "code",
   "execution_count": 82,
   "metadata": {},
   "outputs": [],
   "source": [
    "la_combined_df = la_combined_df.drop(columns = 'listing_id')\n",
    "la_listings_df = la_listings_df.drop([15753])\n",
    "la_combined_df = la_combined_df.drop([15753])"
   ]
  },
  {
   "cell_type": "markdown",
   "metadata": {},
   "source": [
    "#### LA Amenity Scraping"
   ]
  },
  {
   "cell_type": "code",
   "execution_count": 83,
   "metadata": {},
   "outputs": [],
   "source": [
    "la_amenities_df = pd.DataFrame(la_combined_df['amenities'])\n",
    "la_amenities_list_accum = []\n",
    "df_len = len(la_amenities_df.index)\n",
    "for i in range(0,df_len):\n",
    "    x = ast.literal_eval(la_amenities_df.iloc[i, 0])\n",
    "    la_amenities_list_accum.append(x)"
   ]
  },
  {
   "cell_type": "code",
   "execution_count": 84,
   "metadata": {},
   "outputs": [],
   "source": [
    "la_amenities_frequency={}\n",
    "for list in la_amenities_list_accum:\n",
    "    for item in list:\n",
    "        if item in la_amenities_frequency:\n",
    "            la_amenities_frequency[item] += 1\n",
    "        else:\n",
    "            la_amenities_frequency[item] = 1"
   ]
  },
  {
   "cell_type": "code",
   "execution_count": 85,
   "metadata": {},
   "outputs": [],
   "source": [
    "la_amenities_df = pd.DataFrame(la_amenities_frequency, index=[0])\n",
    "la_amenities_list = la_amenities_df.columns"
   ]
  },
  {
   "cell_type": "code",
   "execution_count": 86,
   "metadata": {},
   "outputs": [],
   "source": [
    "la_amenities_df = pd.melt(la_amenities_df, value_vars=la_amenities_list, value_name='la_count')"
   ]
  },
  {
   "cell_type": "code",
   "execution_count": 87,
   "metadata": {},
   "outputs": [
    {
     "name": "stdout",
     "output_type": "stream",
     "text": [
      "Returning data to local variable la_amenities_df\n"
     ]
    }
   ],
   "source": [
    "%sql la_amenities_df << SELECT * FROM la_amenities_df ORDER BY la_count DESC FETCH FIRST 50 ROWS ONLY;"
   ]
  },
  {
   "cell_type": "code",
   "execution_count": 88,
   "metadata": {},
   "outputs": [],
   "source": [
    "la_amenities_df = la_amenities_df.rename(columns={'variable': 'variable_1'})"
   ]
  },
  {
   "cell_type": "markdown",
   "metadata": {},
   "source": [
    "## Nashville Cleaning"
   ]
  },
  {
   "cell_type": "code",
   "execution_count": 89,
   "metadata": {},
   "outputs": [
    {
     "name": "stdout",
     "output_type": "stream",
     "text": [
      "id                                 int64\n",
      "name                              object\n",
      "description                       object\n",
      "host_since                datetime64[ns]\n",
      "host_about                        object\n",
      "host_response_time                 int64\n",
      "host_response_rate               float64\n",
      "host_acceptance_rate             float64\n",
      "host_is_superhost                   bool\n",
      "host_listings_count              float64\n",
      "host_has_profile_pic                bool\n",
      "host_identity_verified              bool\n",
      "neighbourhood_cleansed            object\n",
      "room_type                         object\n",
      "accommodates                       int64\n",
      "bathrooms_text                    object\n",
      "bedrooms                         float64\n",
      "beds                             float64\n",
      "amenities                         object\n",
      "price                            float64\n",
      "minimum_nights                     int64\n",
      "maximum_nights                     int64\n",
      "number_of_reviews                  int64\n",
      "last_review               datetime64[ns]\n",
      "review_scores_rating             float64\n",
      "instant_bookable                    bool\n",
      "is_private_room                     bool\n",
      "is_private_bath                     bool\n",
      "baths                              int64\n",
      "is_private_overall                  bool\n",
      "dtype: object\n",
      "(4266, 30)\n",
      "                      id                                               name  \\\n",
      "1                  39870                              Close to Vanderbilt 2   \n",
      "2                  59576   Large Master Suite near Lake *ladies only NS plz   \n",
      "3                  72906  Vandy/Belmont/10 mins to Broadway - Sunny 800 ...   \n",
      "4                 258817             ButterflyRoom-queen room, private bath   \n",
      "5                 289242        MorningstarHouse, monthly room- open Aug 19   \n",
      "...                  ...                                                ...   \n",
      "7726            41612540    The Sounds Of Music - Nashville Luxury Vacation   \n",
      "7727            26249905        Nashville Getaway - Easy access to downtown   \n",
      "7730            48625334       A spacious and updated 3 bed 2 1/2 townhome!   \n",
      "7731  648366484239998665         1 bedroom Home 25min to downtown Nashville   \n",
      "7732             8105862  Private bedroom and bath 25 min drive to downtown   \n",
      "\n",
      "                                            description host_since  \\\n",
      "1     Since I am older, I need for guests to be vacc... 2010-07-18   \n",
      "2     non-smokers only please<br /><br />furnished r... 2011-07-12   \n",
      "3     Entire top floor. Private. 800 sq ft of bright... 2010-07-21   \n",
      "4     Morningstar House! Extended stay - 3+ months- ... 2009-06-19   \n",
      "5     Morningstar House! Extended stay - price reduc... 2009-06-19   \n",
      "...                                                 ...        ...   \n",
      "7726  Bring the whole family to this amazing Nashvil... 2020-01-16   \n",
      "7727  This country retreat is 20 miles from Downtown... 2016-09-14   \n",
      "7730  A spacious 3 bed 2 1/2 bath townhome in La Ver... 2020-09-05   \n",
      "7731  Take a break and unwind at this peaceful oasis... 2014-02-11   \n",
      "7732  Forget your worries in this spacious and seren... 2014-02-11   \n",
      "\n",
      "                                             host_about  host_response_time  \\\n",
      "1     I am a newly retired elementary school teacher...                   0   \n",
      "2     Retired Military/ Realtor/Airline.  Please cli...                   0   \n",
      "3     I was born in England and came to the US as a ...                   0   \n",
      "4     For 35 years I was serving the world as a comm...                   0   \n",
      "5     For 35 years I was serving the world as a comm...                   0   \n",
      "...                                                 ...                 ...   \n",
      "7726  Our family welcomes you.  We began hosting our...                   0   \n",
      "7727  We have 3 children, 6 grandchildren and 2 grea...                   1   \n",
      "7730  Hello! I am Ellie. I grew up in NYC, but moved...                   0   \n",
      "7731  Hi Im Nick.  Or many people in the Music Indus...                   3   \n",
      "7732  Hi Im Nick.  Or many people in the Music Indus...                   3   \n",
      "\n",
      "      host_response_rate  host_acceptance_rate  host_is_superhost  \\\n",
      "1                    1.0                  0.84               True   \n",
      "2                    1.0                  0.98              False   \n",
      "3                    1.0                  1.00               True   \n",
      "4                    1.0                  0.68               True   \n",
      "5                    1.0                  0.68               True   \n",
      "...                  ...                   ...                ...   \n",
      "7726                 1.0                  1.00               True   \n",
      "7727                 1.0                  0.85               True   \n",
      "7730                 1.0                  0.99               True   \n",
      "7731                 0.4                  0.95              False   \n",
      "7732                 0.4                  0.95              False   \n",
      "\n",
      "      host_listings_count  ...  minimum_nights  maximum_nights  \\\n",
      "1                     2.0  ...               1            1125   \n",
      "2                    19.0  ...              31             365   \n",
      "3                     1.0  ...               2               7   \n",
      "4                    21.0  ...              30             365   \n",
      "5                    21.0  ...              30             365   \n",
      "...                   ...  ...             ...             ...   \n",
      "7726                  2.0  ...               4            1125   \n",
      "7727                  1.0  ...               2               7   \n",
      "7730                  1.0  ...               1            1125   \n",
      "7731                  2.0  ...               1             365   \n",
      "7732                  2.0  ...               1             365   \n",
      "\n",
      "     number_of_reviews last_review  review_scores_rating instant_bookable  \\\n",
      "1                  328  2022-09-11                  4.94            False   \n",
      "2                    1  2022-06-26                  4.00            False   \n",
      "3                  658  2022-09-11                  4.91            False   \n",
      "4                   96  2019-12-14                  4.77            False   \n",
      "5                   76  2019-01-12                  4.71            False   \n",
      "...                ...         ...                   ...              ...   \n",
      "7726                29  2022-08-01                  4.97            False   \n",
      "7727                60  2022-09-07                  5.00            False   \n",
      "7730               154  2022-08-14                  4.87             True   \n",
      "7731                 2  2022-07-02                  5.00            False   \n",
      "7732                 9  2022-06-22                  4.67            False   \n",
      "\n",
      "      is_private_room  is_private_bath baths  is_private_overall  \n",
      "1                True             True     1                True  \n",
      "2                True             True     1                True  \n",
      "3                True             True     1                True  \n",
      "4                True             True     1                True  \n",
      "5                True            False     1               False  \n",
      "...               ...              ...   ...                 ...  \n",
      "7726             True             True     9                True  \n",
      "7727             True             True     2                True  \n",
      "7730             True             True     2                True  \n",
      "7731             True             True     1                True  \n",
      "7732             True             True     1                True  \n",
      "\n",
      "[4266 rows x 30 columns]\n",
      "         listing_id       date  available  minimum_nights  maximum_nights\n",
      "0          17653675 2022-09-15      False             1.0          1125.0\n",
      "1          17653675 2022-09-16      False             2.0          1125.0\n",
      "2          17653675 2022-09-17      False             2.0          1125.0\n",
      "3          17653675 2022-09-18      False             1.0          1125.0\n",
      "4          17653675 2022-09-19       True             1.0          1125.0\n",
      "...             ...        ...        ...             ...             ...\n",
      "2822183    18688265 2023-09-10      False             2.0          1125.0\n",
      "2822184    18688265 2023-09-11      False             2.0          1125.0\n",
      "2822185    18688265 2023-09-12      False             2.0          1125.0\n",
      "2822186    18688265 2023-09-13      False             2.0          1125.0\n",
      "2822187    18688265 2023-09-14      False             2.0          1125.0\n",
      "\n",
      "[2822188 rows x 5 columns]\n",
      "listing_id                 int64\n",
      "date              datetime64[ns]\n",
      "available                   bool\n",
      "minimum_nights           float64\n",
      "maximum_nights           float64\n",
      "dtype: object\n"
     ]
    }
   ],
   "source": [
    "# NASHVILLE CLEANING\n",
    "\n",
    "nsh_listings_df = pd.read_csv(\"listings/nsh_listings.csv\")\n",
    "\n",
    "nsh_listings_df = nsh_listings_df[nsh_listings_df[\"host_about\"].notna()]\n",
    "nsh_listings_df = nsh_listings_df[nsh_listings_df[\"host_response_time\"].notna()]\n",
    "nsh_listings_df = nsh_listings_df[nsh_listings_df[\"host_response_rate\"].notna()]\n",
    "nsh_listings_df = nsh_listings_df[nsh_listings_df[\"host_acceptance_rate\"].notna()]\n",
    "nsh_listings_df = nsh_listings_df[nsh_listings_df[\"last_review\"].notna()]\n",
    "nsh_listings_df = nsh_listings_df[nsh_listings_df[\"review_scores_rating\"].notna()]\n",
    "nsh_listings_df = nsh_listings_df[nsh_listings_df[\"description\"].notna()]\n",
    "nsh_listings_df = nsh_listings_df[nsh_listings_df[\"beds\"].notna()]\n",
    "nsh_listings_df = nsh_listings_df[nsh_listings_df[\"bedrooms\"].notna()]\n",
    "nsh_listings_df = nsh_listings_df[nsh_listings_df[\"bathrooms_text\"].notna()]\n",
    "\n",
    "nsh_listings_df = nsh_listings_df[nsh_listings_df[\"host_about\"].apply(is_string)]\n",
    "nsh_listings_df = nsh_listings_df[nsh_listings_df[\"name\"].apply(is_string)]\n",
    "nsh_listings_df = nsh_listings_df[nsh_listings_df[\"description\"].apply(is_string)]\n",
    "\n",
    "nsh_listings_df[\"host_response_rate\"] = nsh_listings_df[\"host_response_rate\"].apply(percent_to_float)\n",
    "nsh_listings_df[\"host_acceptance_rate\"] = nsh_listings_df[\"host_acceptance_rate\"].apply(percent_to_float)\n",
    "nsh_listings_df[\"price\"] = nsh_listings_df[\"price\"].apply(dollar_to_float)\n",
    "nsh_listings_df[\"instant_bookable\"] = nsh_listings_df[\"instant_bookable\"].apply(str_to_bool)\n",
    "nsh_listings_df[\"host_identity_verified\"] = nsh_listings_df[\"host_identity_verified\"].apply(str_to_bool)\n",
    "nsh_listings_df[\"host_has_profile_pic\"] = nsh_listings_df[\"host_has_profile_pic\"].apply(str_to_bool)\n",
    "nsh_listings_df[\"host_is_superhost\"] = nsh_listings_df[\"host_is_superhost\"].apply(str_to_bool)\n",
    "nsh_listings_df[\"host_response_time\"] = nsh_listings_df[\"host_response_time\"].apply(host_response_time_to_int)\n",
    "nsh_listings_df[\"amenities\"] = nsh_listings_df[\"amenities\"].apply(amenities_to_list)\n",
    "\n",
    "nsh_listings_df[\"is_private_room\"] = nsh_listings_df[\"room_type\"].apply(room_type_to_bool)\n",
    "nsh_listings_df[\"is_private_bath\"] = nsh_listings_df[\"bathrooms_text\"].apply(bathrooms_text_to_bool)\n",
    "nsh_listings_df[\"baths\"] = nsh_listings_df[\"bathrooms_text\"].apply(bathroom_text_to_float)\n",
    "nsh_listings_df[\"is_private_overall\"] = nsh_listings_df[\"is_private_room\"] & nsh_listings_df[\"is_private_bath\"]\n",
    "\n",
    "nsh_listings_df[\"host_since\"] = pd.to_datetime(nsh_listings_df[\"host_since\"])\n",
    "nsh_listings_df[\"last_review\"] = pd.to_datetime(nsh_listings_df[\"last_review\"])\n",
    "\n",
    "print(nsh_listings_df.dtypes)\n",
    "print(nsh_listings_df.shape)\n",
    "print(nsh_listings_df)\n",
    "\n",
    "nsh_calendar_df = pd.read_csv(\"calendars/nsh_calendar.csv\")\n",
    "nsh_calendar_df = nsh_calendar_df.drop(\"price\", axis=1)\n",
    "nsh_calendar_df = nsh_calendar_df.drop(\"adjusted_price\", axis=1)\n",
    "nsh_calendar_df[\"date\"] = pd.to_datetime(nsh_calendar_df[\"date\"])\n",
    "nsh_calendar_df[\"available\"] = nsh_calendar_df[\"available\"].apply(str_to_bool)\n",
    "\n",
    "print(nsh_calendar_df)\n",
    "print(nsh_calendar_df.dtypes)"
   ]
  },
  {
   "cell_type": "code",
   "execution_count": 90,
   "metadata": {},
   "outputs": [
    {
     "name": "stdout",
     "output_type": "stream",
     "text": [
      "Returning data to local variable nsh_bookings_df\n",
      "Returning data to local variable nsh_combined_df\n",
      "Returning data to local variable nsh_listings_df\n",
      "Returning data to local variable nsh_combined_df\n"
     ]
    }
   ],
   "source": [
    "%sql nsh_bookings_df << (SELECT listing_id, COUNT(available) AS days_booked FROM nsh_calendar_df WHERE available = False GROUP BY listing_id)\n",
    "%sql nsh_combined_df << (SELECT * FROM nsh_listings_df LEFT JOIN nsh_bookings_df ON nsh_listings_df.id = nsh_bookings_df.listing_id)\n",
    "%sql nsh_listings_df << SELECT * FROM nsh_listings_df ORDER BY price \n",
    "%sql nsh_combined_df << SELECT * FROM nsh_combined_df ORDER BY price "
   ]
  },
  {
   "cell_type": "code",
   "execution_count": 91,
   "metadata": {},
   "outputs": [],
   "source": [
    "nsh_combined_df = nsh_combined_df.drop(columns = 'listing_id')\n",
    "nsh_listings_df = nsh_listings_df.drop([4260])\n",
    "nsh_combined_df = nsh_combined_df.drop([4260])"
   ]
  },
  {
   "cell_type": "markdown",
   "metadata": {},
   "source": [
    "#### NASH Amenity Scraping"
   ]
  },
  {
   "cell_type": "code",
   "execution_count": 92,
   "metadata": {},
   "outputs": [],
   "source": [
    "nsh_amenities_df = pd.DataFrame(nsh_combined_df['amenities'])\n",
    "nsh_amenities_list_accum = []\n",
    "df_len = len(nsh_amenities_df.index)\n",
    "for i in range(0,df_len):\n",
    "    x = ast.literal_eval(nsh_amenities_df.iloc[i, 0])\n",
    "    nsh_amenities_list_accum.append(x)"
   ]
  },
  {
   "cell_type": "code",
   "execution_count": 93,
   "metadata": {},
   "outputs": [],
   "source": [
    "nsh_amenities_frequency={}\n",
    "for list in nsh_amenities_list_accum:\n",
    "    for item in list:\n",
    "        if item in nsh_amenities_frequency:\n",
    "            nsh_amenities_frequency[item] += 1\n",
    "        else:\n",
    "            nsh_amenities_frequency[item] = 1"
   ]
  },
  {
   "cell_type": "code",
   "execution_count": 94,
   "metadata": {},
   "outputs": [],
   "source": [
    "nsh_amenities_df = pd.DataFrame(nsh_amenities_frequency, index=[0])\n",
    "nsh_amenities_list = nsh_amenities_df.columns"
   ]
  },
  {
   "cell_type": "code",
   "execution_count": 95,
   "metadata": {},
   "outputs": [],
   "source": [
    "nsh_amenities_df = pd.melt(nsh_amenities_df, value_vars=nsh_amenities_list, value_name='nsh_count')"
   ]
  },
  {
   "cell_type": "code",
   "execution_count": 96,
   "metadata": {},
   "outputs": [
    {
     "name": "stdout",
     "output_type": "stream",
     "text": [
      "Returning data to local variable nsh_amenities_df\n"
     ]
    }
   ],
   "source": [
    "%sql nsh_amenities_df << SELECT * FROM nsh_amenities_df ORDER BY nsh_count DESC FETCH FIRST 50 ROWS ONLY;"
   ]
  },
  {
   "cell_type": "code",
   "execution_count": 97,
   "metadata": {},
   "outputs": [],
   "source": [
    "nsh_amenities_df = nsh_amenities_df.rename(columns={'variable': 'variable_1'})"
   ]
  },
  {
   "cell_type": "markdown",
   "metadata": {},
   "source": [
    "## Twin Cities Cleaning"
   ]
  },
  {
   "cell_type": "code",
   "execution_count": 98,
   "metadata": {},
   "outputs": [
    {
     "name": "stdout",
     "output_type": "stream",
     "text": [
      "id                               float64\n",
      "name                              object\n",
      "description                       object\n",
      "host_since                datetime64[ns]\n",
      "host_about                        object\n",
      "host_response_time                 int64\n",
      "host_response_rate               float64\n",
      "host_acceptance_rate             float64\n",
      "host_is_superhost                   bool\n",
      "host_listings_count                int64\n",
      "host_has_profile_pic                bool\n",
      "host_identity_verified              bool\n",
      "neighbourhood_cleansed            object\n",
      "room_type                         object\n",
      "accommodates                       int64\n",
      "bathrooms_text                    object\n",
      "bedrooms                         float64\n",
      "beds                             float64\n",
      "amenities                         object\n",
      "price                            float64\n",
      "minimum_nights                     int64\n",
      "maximum_nights                     int64\n",
      "number_of_reviews                  int64\n",
      "last_review               datetime64[ns]\n",
      "review_scores_rating             float64\n",
      "instant_bookable                    bool\n",
      "is_private_room                     bool\n",
      "is_private_bath                     bool\n",
      "baths                            float64\n",
      "is_private_overall                  bool\n",
      "dtype: object\n",
      "(1776, 30)\n",
      "                id                                               name  \\\n",
      "0     2.441000e+03  Cozy Artist’s Abode, NE Mpls - Pets, Wifi, Rok...   \n",
      "1     4.534000e+03   Charming, 1 or 2BR + private bath, near downtown   \n",
      "2     2.731900e+04                 Parks, Lakes, Downtown, Light rail   \n",
      "3     8.243900e+04                           Rest and Rehearsal Space   \n",
      "4     1.010340e+05      ★ParkFront ★ Walk 2 Downtown ★ Bike Score 98★   \n",
      "...            ...                                                ...   \n",
      "4085  7.064310e+17  Sweet retreat in fantastic uptown close to lakes.   \n",
      "4107  7.108446e+17         Clean comfortable and convenient location.   \n",
      "4109  7.110384e+17  Charming City Center Oasis for Family+Friends+...   \n",
      "4110  7.110439e+17  Relaxing Modern Private Room in Upgraded Basement   \n",
      "4112  7.111287e+17       Classy and simple bedroom with free parking!   \n",
      "\n",
      "                                            description host_since  \\\n",
      "0     Make my home your homebase while you check out... 2008-09-02   \n",
      "1     Note for your safety,  I’m fully vaccinated!<b... 2008-12-30   \n",
      "2     <b>The space</b><br />Two Private, furnished r... 2010-05-02   \n",
      "3     <b>The space</b><br />Musicians! <br /> <br />... 2010-05-02   \n",
      "4     Convenient Location - Bright Open Spaces - Cle... 2011-04-23   \n",
      "...                                                 ...        ...   \n",
      "4085  Your family will be close to everything when y... 2019-12-04   \n",
      "4107  You'll have a great time at this comfortable p... 2022-09-06   \n",
      "4109  Charming neighborhood centrally  located to do... 2015-09-01   \n",
      "4110  Kick back and relax in this calm, stylish spac... 2015-08-30   \n",
      "4112  Relax alone or with family and or friends at t... 2019-09-12   \n",
      "\n",
      "                                             host_about  host_response_time  \\\n",
      "0     Hi, I'm Emily! I’ve been hosting on Airbnb sin...                   1   \n",
      "1     Well traveled. \\nSchool social worker. \\nLove ...                   0   \n",
      "2     Personable, creative, and down to earth. By da...                   2   \n",
      "3     Personable, creative, and down to earth. By da...                   2   \n",
      "4     Words that best describe me:  Home Styler Extr...                   1   \n",
      "...                                                 ...                 ...   \n",
      "4085  I love adventure and travel. Sports, animals, ...                   0   \n",
      "4107  Welcome to our house .\\nYou will feel welcomed...                   0   \n",
      "4109  My name is Amy Leinen. I live in Minnesota, US...                   0   \n",
      "4110  Michael and I are a married engineering couple...                   0   \n",
      "4112                    Love to write, read and travel.                   0   \n",
      "\n",
      "      host_response_rate  host_acceptance_rate  host_is_superhost  \\\n",
      "0                   1.00                  0.50               True   \n",
      "1                   1.00                  0.90               True   \n",
      "2                   0.80                  0.62               True   \n",
      "3                   0.80                  0.62               True   \n",
      "4                   1.00                  0.67              False   \n",
      "...                  ...                   ...                ...   \n",
      "4085                0.92                  0.89              False   \n",
      "4107                1.00                  1.00              False   \n",
      "4109                1.00                  1.00              False   \n",
      "4110                1.00                  1.00              False   \n",
      "4112                1.00                  1.00              False   \n",
      "\n",
      "      host_listings_count  ...  minimum_nights  maximum_nights  \\\n",
      "0                       2  ...              28             180   \n",
      "1                       2  ...               2              21   \n",
      "2                       2  ...               2              60   \n",
      "3                       2  ...               2              60   \n",
      "4                       4  ...              30             360   \n",
      "...                   ...  ...             ...             ...   \n",
      "4085                    5  ...               2             365   \n",
      "4107                    2  ...               1             365   \n",
      "4109                    2  ...               1            1125   \n",
      "4110                    1  ...               1            1125   \n",
      "4112                    4  ...               1            1125   \n",
      "\n",
      "     number_of_reviews last_review  review_scores_rating instant_bookable  \\\n",
      "0                  298  2022-05-01                  4.80            False   \n",
      "1                  205  2022-09-05                  4.88            False   \n",
      "2                  181  2022-08-07                  4.78            False   \n",
      "3                   35  2022-08-28                  4.97            False   \n",
      "4                  112  2020-01-29                  4.93            False   \n",
      "...                ...         ...                   ...              ...   \n",
      "4085                 2  2022-09-14                  5.00            False   \n",
      "4107                 2  2022-09-11                  5.00             True   \n",
      "4109                 1  2022-09-13                  5.00            False   \n",
      "4110                 1  2022-09-11                  5.00            False   \n",
      "4112                 1  2022-09-13                  5.00             True   \n",
      "\n",
      "      is_private_room  is_private_bath baths  is_private_overall  \n",
      "0                True             True   1.0                True  \n",
      "1                True             True   1.0                True  \n",
      "2                True            False   1.0               False  \n",
      "3                True             True   1.0                True  \n",
      "4                True             True   2.0                True  \n",
      "...               ...              ...   ...                 ...  \n",
      "4085             True             True   1.0                True  \n",
      "4107             True            False   1.0               False  \n",
      "4109             True             True   1.0                True  \n",
      "4110             True             True   1.0                True  \n",
      "4112             True            False   3.0               False  \n",
      "\n",
      "[1776 rows x 30 columns]\n",
      "         listing_id       date  available  minimum_nights  maximum_nights\n",
      "0              2441 2022-09-16      False              28             180\n",
      "1              2441 2022-09-17      False              28             180\n",
      "2              2441 2022-09-18      False              28             180\n",
      "3              2441 2022-09-19      False              28             180\n",
      "4              2441 2022-09-20      False              28             180\n",
      "...             ...        ...        ...             ...             ...\n",
      "1516557     2626184 2023-09-11       True               1            1125\n",
      "1516558     2626184 2023-09-12       True               1            1125\n",
      "1516559     2626184 2023-09-13       True               1            1125\n",
      "1516560     2626184 2023-09-14       True               1            1125\n",
      "1516561     2626184 2023-09-15       True               1            1125\n",
      "\n",
      "[1516562 rows x 5 columns]\n",
      "listing_id                 int64\n",
      "date              datetime64[ns]\n",
      "available                   bool\n",
      "minimum_nights             int64\n",
      "maximum_nights             int64\n",
      "dtype: object\n"
     ]
    }
   ],
   "source": [
    "# TWIN CITIES CLEANING\n",
    "\n",
    "msp_listings_df = pd.read_csv(\"listings/msp_listings.csv\")\n",
    "\n",
    "msp_listings_df = msp_listings_df[msp_listings_df[\"host_about\"].notna()]\n",
    "msp_listings_df = msp_listings_df[msp_listings_df[\"host_response_time\"].notna()]\n",
    "msp_listings_df = msp_listings_df[msp_listings_df[\"host_response_rate\"].notna()]\n",
    "msp_listings_df = msp_listings_df[msp_listings_df[\"host_acceptance_rate\"].notna()]\n",
    "msp_listings_df = msp_listings_df[msp_listings_df[\"last_review\"].notna()]\n",
    "msp_listings_df = msp_listings_df[msp_listings_df[\"review_scores_rating\"].notna()]\n",
    "msp_listings_df = msp_listings_df[msp_listings_df[\"description\"].notna()]\n",
    "msp_listings_df = msp_listings_df[msp_listings_df[\"beds\"].notna()]\n",
    "msp_listings_df = msp_listings_df[msp_listings_df[\"bedrooms\"].notna()]\n",
    "msp_listings_df = msp_listings_df[msp_listings_df[\"bathrooms_text\"].notna()]\n",
    "\n",
    "msp_listings_df = msp_listings_df[msp_listings_df[\"host_about\"].apply(is_string)]\n",
    "msp_listings_df = msp_listings_df[msp_listings_df[\"name\"].apply(is_string)]\n",
    "msp_listings_df = msp_listings_df[msp_listings_df[\"description\"].apply(is_string)]\n",
    "\n",
    "msp_listings_df[\"host_response_rate\"] = msp_listings_df[\"host_response_rate\"].apply(percent_to_float)\n",
    "msp_listings_df[\"host_acceptance_rate\"] = msp_listings_df[\"host_acceptance_rate\"].apply(percent_to_float)\n",
    "msp_listings_df[\"price\"] = msp_listings_df[\"price\"].apply(dollar_to_float)\n",
    "msp_listings_df[\"instant_bookable\"] = msp_listings_df[\"instant_bookable\"].apply(str_to_bool)\n",
    "msp_listings_df[\"host_identity_verified\"] = msp_listings_df[\"host_identity_verified\"].apply(str_to_bool)\n",
    "msp_listings_df[\"host_has_profile_pic\"] = msp_listings_df[\"host_has_profile_pic\"].apply(str_to_bool)\n",
    "msp_listings_df[\"host_is_superhost\"] = msp_listings_df[\"host_is_superhost\"].apply(str_to_bool)\n",
    "msp_listings_df[\"host_response_time\"] = msp_listings_df[\"host_response_time\"].apply(host_response_time_to_int)\n",
    "msp_listings_df[\"amenities\"] = msp_listings_df[\"amenities\"].apply(amenities_to_list)\n",
    "\n",
    "msp_listings_df[\"is_private_room\"] = msp_listings_df[\"room_type\"].apply(room_type_to_bool)\n",
    "msp_listings_df[\"is_private_bath\"] = msp_listings_df[\"bathrooms_text\"].apply(bathrooms_text_to_bool)\n",
    "msp_listings_df[\"baths\"] = msp_listings_df[\"bathrooms_text\"].apply(bathroom_text_to_float)\n",
    "msp_listings_df[\"is_private_overall\"] = msp_listings_df[\"is_private_room\"] & msp_listings_df[\"is_private_bath\"]\n",
    "\n",
    "msp_listings_df[\"host_since\"] = pd.to_datetime(msp_listings_df[\"host_since\"])\n",
    "msp_listings_df[\"last_review\"] = pd.to_datetime(msp_listings_df[\"last_review\"])\n",
    "\n",
    "print(msp_listings_df.dtypes)\n",
    "print(msp_listings_df.shape)\n",
    "print(msp_listings_df)\n",
    "\n",
    "msp_calendar_df = pd.read_csv(\"calendars/msp_calendar.csv\")\n",
    "msp_calendar_df = msp_calendar_df.drop(\"price\", axis=1)\n",
    "msp_calendar_df = msp_calendar_df.drop(\"adjusted_price\", axis=1)\n",
    "msp_calendar_df[\"date\"] = pd.to_datetime(msp_calendar_df[\"date\"])\n",
    "msp_calendar_df[\"available\"] = msp_calendar_df[\"available\"].apply(str_to_bool)\n",
    "\n",
    "print(msp_calendar_df)\n",
    "print(msp_calendar_df.dtypes)"
   ]
  },
  {
   "cell_type": "code",
   "execution_count": 99,
   "metadata": {},
   "outputs": [
    {
     "name": "stdout",
     "output_type": "stream",
     "text": [
      "Returning data to local variable msp_bookings_df\n",
      "Returning data to local variable msp_combined_df\n",
      "Returning data to local variable msp_listings_df\n",
      "Returning data to local variable msp_combined_df\n"
     ]
    }
   ],
   "source": [
    "%sql msp_bookings_df << (SELECT listing_id, COUNT(available) AS days_booked FROM msp_calendar_df WHERE available = False GROUP BY listing_id)\n",
    "%sql msp_combined_df << (SELECT * FROM msp_listings_df LEFT JOIN msp_bookings_df ON msp_listings_df.id = msp_bookings_df.listing_id)\n",
    "%sql msp_listings_df << SELECT * FROM msp_listings_df ORDER BY price \n",
    "%sql msp_combined_df << SELECT * FROM msp_combined_df ORDER BY price "
   ]
  },
  {
   "cell_type": "code",
   "execution_count": 100,
   "metadata": {},
   "outputs": [],
   "source": [
    "msp_combined_df = msp_combined_df.drop(columns = 'listing_id')\n",
    "msp_listings_df = msp_listings_df.drop([1771])\n",
    "msp_combined_df = msp_combined_df.drop([1771])"
   ]
  },
  {
   "cell_type": "markdown",
   "metadata": {},
   "source": [
    "#### MSP Amenity Scraping"
   ]
  },
  {
   "cell_type": "code",
   "execution_count": 101,
   "metadata": {},
   "outputs": [],
   "source": [
    "msp_amenities_df = pd.DataFrame(msp_combined_df['amenities'])\n",
    "msp_amenities_list_accum = []\n",
    "df_len = len(msp_amenities_df.index)\n",
    "for i in range(0,df_len):\n",
    "    x = ast.literal_eval(msp_amenities_df.iloc[i, 0])\n",
    "    msp_amenities_list_accum.append(x)"
   ]
  },
  {
   "cell_type": "code",
   "execution_count": 102,
   "metadata": {},
   "outputs": [],
   "source": [
    "msp_amenities_frequency={}\n",
    "for list in msp_amenities_list_accum:\n",
    "    for item in list:\n",
    "        if item in msp_amenities_frequency:\n",
    "            msp_amenities_frequency[item] += 1\n",
    "        else:\n",
    "            msp_amenities_frequency[item] = 1"
   ]
  },
  {
   "cell_type": "code",
   "execution_count": 103,
   "metadata": {},
   "outputs": [],
   "source": [
    "msp_amenities_df = pd.DataFrame(msp_amenities_frequency, index=[0])\n",
    "msp_amenities_list = msp_amenities_df.columns"
   ]
  },
  {
   "cell_type": "code",
   "execution_count": 104,
   "metadata": {},
   "outputs": [],
   "source": [
    "msp_amenities_df = pd.melt(msp_amenities_df, value_vars=msp_amenities_list, value_name='msp_count')"
   ]
  },
  {
   "cell_type": "code",
   "execution_count": 105,
   "metadata": {},
   "outputs": [
    {
     "name": "stdout",
     "output_type": "stream",
     "text": [
      "Returning data to local variable msp_amenities_df\n"
     ]
    }
   ],
   "source": [
    "%sql msp_amenities_df << SELECT * FROM msp_amenities_df ORDER BY msp_count DESC FETCH FIRST 50 ROWS ONLY;"
   ]
  },
  {
   "cell_type": "code",
   "execution_count": 106,
   "metadata": {},
   "outputs": [],
   "source": [
    "msp_amenities_df = msp_amenities_df.rename(columns={'variable': 'variable_1'})"
   ]
  },
  {
   "cell_type": "code",
   "execution_count": 107,
   "metadata": {},
   "outputs": [
    {
     "name": "stdout",
     "output_type": "stream",
     "text": [
      "Returning data to local variable amenities_df\n",
      "Returning data to local variable amenities_df\n",
      "Returning data to local variable amenities_df\n",
      "Returning data to local variable amenities_df\n",
      "Returning data to local variable amenities_df\n",
      "Returning data to local variable amenities_df\n",
      "Returning data to local variable amenities_df\n",
      "Returning data to local variable amenities_df\n"
     ]
    }
   ],
   "source": [
    "%sql amenities_df << SELECT * FROM nyc_amenities_df INNER JOIN bos_amenities_df ON nyc_amenities_df.variable = bos_amenities_df.variable_1;\n",
    "%sql amenities_df << SELECT * FROM amenities_df INNER JOIN chi_amenities_df ON amenities_df.variable = chi_amenities_df.variable_1;\n",
    "%sql amenities_df << SELECT * FROM amenities_df INNER JOIN dc_amenities_df ON amenities_df.variable = dc_amenities_df.variable_1;\n",
    "%sql amenities_df << SELECT * FROM amenities_df INNER JOIN dal_amenities_df ON amenities_df.variable = dal_amenities_df.variable_1;\n",
    "%sql amenities_df << SELECT * FROM amenities_df INNER JOIN lv_amenities_df ON amenities_df.variable = lv_amenities_df.variable_1;\n",
    "%sql amenities_df << SELECT * FROM amenities_df INNER JOIN la_amenities_df ON amenities_df.variable = la_amenities_df.variable_1;\n",
    "%sql amenities_df << SELECT * FROM amenities_df INNER JOIN nsh_amenities_df ON amenities_df.variable = nsh_amenities_df.variable_1;\n",
    "%sql amenities_df << SELECT * FROM amenities_df INNER JOIN msp_amenities_df ON amenities_df.variable = msp_amenities_df.variable_1;"
   ]
  },
  {
   "cell_type": "code",
   "execution_count": 108,
   "metadata": {},
   "outputs": [],
   "source": [
    "amenities_df = amenities_df.drop(columns=['variable_1','variable_1_1', 'variable_1_2', 'variable_1_3', 'variable_1_4', 'variable_1_5', 'variable_1_6'])"
   ]
  },
  {
   "cell_type": "code",
   "execution_count": 109,
   "metadata": {},
   "outputs": [
    {
     "name": "stdout",
     "output_type": "stream",
     "text": [
      "            variable  nyc_count  bos_count  chi_count  dc_count  dal_count  \\\n",
      "6       Coffee maker       7421       1604       2950      2083       2383   \n",
      "19           Heating       8393       1653       2533      1986       1910   \n",
      "25        Dishwasher       3259       1101       1998      1476       2026   \n",
      "28  Air conditioning       6860       1191       1861      1526       1574   \n",
      "30           Toaster       3046        634       1190       730       1201   \n",
      "35      Wine glasses       3285        621       1165       798       1201   \n",
      "\n",
      "    lv_count  la_count  nsh_count  msp_count  \n",
      "6       3974     12749       3976       1585  \n",
      "19      3640     11703       3202       1288  \n",
      "25      3217      8258       3223       1022  \n",
      "28      3189      8247       2780        921  \n",
      "30      1821      5169       1399        822  \n",
      "35      1480      4995       1438        732  \n"
     ]
    }
   ],
   "source": [
    "# amenities_df = amenities_df.drop([0,1,2,3,4,5,7,8,10,11, 12, 13, 14, 15, 16, 17, 19, 22, 23, 26, 34, 38, 39], axis=0)\n",
    "keep = ['6', '19', '25', '28', '30', '35']\n",
    "for i in range(len(amenities_df)):\n",
    "    if str(i) not in keep:\n",
    "        amenities_df=amenities_df.drop([i], axis=0)\n",
    "\n",
    "print(amenities_df)"
   ]
  },
  {
   "cell_type": "markdown",
   "metadata": {},
   "source": [
    "## Export Cleaned Data"
   ]
  },
  {
   "cell_type": "code",
   "execution_count": 113,
   "metadata": {},
   "outputs": [],
   "source": [
    "# EXPORT CLEANED DATA INTO CSV\n",
    "nyc_listings_df.to_csv(\"./cleaned_data/nyc_listings_clean.csv\", encoding=\"utf-8\")\n",
    "nyc_combined_df.to_csv(\"./cleaned_data/nyc_combined_clean.csv\", encoding=\"utf-8\")\n",
    "nyc_calendar_df.to_csv(\"./cleaned_data/nyc_calendar_clean.csv\", encoding=\"utf-8\")\n",
    "\n",
    "bos_listings_df.to_csv(\"./cleaned_data/bos_listings_clean.csv\", encoding=\"utf-8\")\n",
    "bos_combined_df.to_csv(\"./cleaned_data/bos_combined_clean.csv\", encoding=\"utf-8\")\n",
    "bos_calendar_df.to_csv(\"./cleaned_data/bos_calendar_clean.csv\", encoding=\"utf-8\")\n",
    "\n",
    "nsh_listings_df.to_csv(\"./cleaned_data/nsh_listings_clean.csv\", encoding=\"utf-8\")\n",
    "nsh_combined_df.to_csv(\"./cleaned_data/nsh_combined_clean.csv\", encoding=\"utf-8\")\n",
    "nsh_calendar_df.to_csv(\"./cleaned_data/nsh_calendar_clean.csv\", encoding=\"utf-8\")\n",
    "\n",
    "dal_listings_df.to_csv(\"./cleaned_data/dal_listings_clean.csv\", encoding=\"utf-8\")\n",
    "dal_combined_df.to_csv(\"./cleaned_data/dal_combined_clean.csv\", encoding=\"utf-8\")\n",
    "dal_calendar_df.to_csv(\"./cleaned_data/dal_calendar_clean.csv\", encoding=\"utf-8\")\n",
    "\n",
    "dc_listings_df.to_csv(\"./cleaned_data/dc_listings_clean.csv\", encoding=\"utf-8\")\n",
    "dc_combined_df.to_csv(\"./cleaned_data/dc_combined_clean.csv\", encoding=\"utf-8\")\n",
    "dc_calendar_df.to_csv(\"./cleaned_data/dc_calendar_clean.csv\", encoding=\"utf-8\")\n",
    "\n",
    "chi_listings_df.to_csv(\"./cleaned_data/chi_listings_clean.csv\", encoding=\"utf-8\")\n",
    "chi_combined_df.to_csv(\"./cleaned_data/chi_combined_clean.csv\", encoding=\"utf-8\")\n",
    "chi_calendar_df.to_csv(\"./cleaned_data/chi_calendar_clean.csv\", encoding=\"utf-8\")\n",
    "chi_amenities_df.to_csv(\"./cleaned_data/chi_amenities_clean.csv\", encoding=\"utf-8\")\n",
    "\n",
    "la_listings_df.to_csv(\"./cleaned_data/la_listings_clean.csv\", encoding=\"utf-8\")\n",
    "la_combined_df.to_csv(\"./cleaned_data/la_combined_clean.csv\", encoding=\"utf-8\")\n",
    "la_calendar_df.to_csv(\"./cleaned_data/la_calendar_clean.csv\", encoding=\"utf-8\")\n",
    "\n",
    "lv_listings_df.to_csv(\"./cleaned_data/lv_listings_clean.csv\", encoding=\"utf-8\")\n",
    "lv_combined_df.to_csv(\"./cleaned_data/lv_combined_clean.csv\", encoding=\"utf-8\")\n",
    "lv_calendar_df.to_csv(\"./cleaned_data/lv_calendar_clean.csv\", encoding=\"utf-8\")\n",
    "\n",
    "msp_listings_df.to_csv(\"./cleaned_data/msp_listings_clean.csv\", encoding=\"utf-8\")\n",
    "msp_combined_df.to_csv(\"./cleaned_data/msp_combined_clean.csv\", encoding=\"utf-8\")\n",
    "msp_calendar_df.to_csv(\"./cleaned_data/msp_calendar_clean.csv\", encoding=\"utf-8\")\n"
   ]
  },
  {
   "cell_type": "code",
   "execution_count": 114,
   "metadata": {},
   "outputs": [],
   "source": [
    "# Export amenities\n",
    "amenities_df.to_csv(\"./cleaned_data/all_amenities_clean.csv\", encoding=\"utf-8\")"
   ]
  },
  {
   "cell_type": "code",
   "execution_count": null,
   "metadata": {},
   "outputs": [],
   "source": []
  }
 ],
 "metadata": {
  "kernelspec": {
   "display_name": "Python 3",
   "language": "python",
   "name": "python3"
  },
  "language_info": {
   "codemirror_mode": {
    "name": "ipython",
    "version": 3
   },
   "file_extension": ".py",
   "mimetype": "text/x-python",
   "name": "python",
   "nbconvert_exporter": "python",
   "pygments_lexer": "ipython3",
   "version": "3.9.12"
  },
  "vscode": {
   "interpreter": {
    "hash": "31f2aee4e71d21fbe5cf8b01ff0e069b9275f58929596ceb00d14d90e3e16cd6"
   }
  }
 },
 "nbformat": 4,
 "nbformat_minor": 2
}
